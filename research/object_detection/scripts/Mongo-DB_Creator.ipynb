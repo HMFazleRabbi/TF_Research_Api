{
 "cells": [
  {
   "cell_type": "markdown",
   "metadata": {},
   "source": [
    "## Mongo Database Manager\n",
    "20200408_1606\n",
    "- Distribution of all the errors and their count\n",
    "- Distribution of refdes\n",
    "- Distribution across board\n",
    "- Very very dangerous\n",
    " \n",
    " If you are not sure what it does just write your own"
   ]
  },
  {
   "cell_type": "code",
   "execution_count": null,
   "metadata": {},
   "outputs": [],
   "source": [
    "import pandas as pd\n",
    "import os, glob, shutil\n",
    "pd.plotting.register_matplotlib_converters()\n",
    "import matplotlib.pyplot as plt\n",
    "%matplotlib inline\n",
    "import seaborn as sns\n",
    "\n",
    "import pymongo\n",
    "import json\n",
    "from bson.objectid import ObjectId\n",
    "import shutil\n",
    "import datetime\n",
    "\n",
    "from IPython.display import display\n",
    "from IPython.display import Image\n",
    "from validation_library import FAULT_NAME\n",
    "print(\"Setup Complete\")"
   ]
  },
  {
   "cell_type": "code",
   "execution_count": null,
   "metadata": {},
   "outputs": [],
   "source": [
    "author=\"Fazle\""
   ]
  },
  {
   "cell_type": "markdown",
   "metadata": {},
   "source": [
    "#### Helper Function"
   ]
  },
  {
   "cell_type": "code",
   "execution_count": null,
   "metadata": {},
   "outputs": [],
   "source": [
    "def barplot_distribution(input_df, col='filename', fig_dw=32, fig_dh=8, title=\"distribution\", table=True, dtype='str'):\n",
    "    title=\"{} {}\".format(col, title)\n",
    "    if (table):\n",
    "        print(title,\"------------------\")\n",
    "        print(input_df.groupby(col)[col].count())\n",
    "    plt.figure(figsize=(fig_dw, fig_dh))\n",
    "    plt.title(title)\n",
    "    if dtype=='str': x_values = [(x.replace(\",\", \"\\n\\n\")).replace(\" \", \"\\n\") for x in input_df.groupby(col)[col].count().index]\n",
    "    else:x_values = [x for x in input_df.groupby(col)[col].count().index]\n",
    "    sns.barplot(x=x_values, y=input_df.groupby(col)[col].count().values)\n"
   ]
  },
  {
   "cell_type": "code",
   "execution_count": null,
   "metadata": {},
   "outputs": [],
   "source": [
    "def createDirectory(path):\n",
    "    if not os.path.isdir(path):\n",
    "        os.makedirs(path)\n",
    "        print (\"Creating {}\".format(path))\n",
    "    return path"
   ]
  },
  {
   "cell_type": "markdown",
   "metadata": {},
   "source": [
    "#### Replace NULL with OK"
   ]
  },
  {
   "cell_type": "code",
   "execution_count": 5,
   "metadata": {},
   "outputs": [],
   "source": [
    "def replace_noerror(df):\n",
    "    df.loc[pd.isnull(df.error), \"error\"]= FAULT_NAME['ok']\n",
    "    return df"
   ]
  },
  {
   "cell_type": "markdown",
   "metadata": {},
   "source": [
    "### Validation function"
   ]
  },
  {
   "cell_type": "code",
   "execution_count": 6,
   "metadata": {},
   "outputs": [],
   "source": [
    "# *************************************************************\n",
    "#   Author       : HM Fazle Rabbi\n",
    "#   Description  : Validation invalid coordinates in x1, y1...\n",
    "#   Date Modified: \n",
    "#   Copyright © 2000, MV Technology Ltd. All rights reserved.\n",
    "# *************************************************************\n",
    "def validate_x1y1x2y2 (x1,x2,y1,y2, xmin, xmax, ymin, ymax, msg):\n",
    "    success = True\n",
    "    if ((x1 > xmax) or (x2 > xmax)):\n",
    "        success = False\n",
    "#         print(\"Failed: ((x1 > xmax) or (x2 > xmax))\")\n",
    "    if ((x1 < xmin) or (x2 < xmin)):\n",
    "        success = False\n",
    "#         print(\"Failed: ((x1 < xmin) or (x2 < xmin))\")\n",
    "\n",
    "    if ((y1 > ymax) or (y2 > ymax)):\n",
    "        success = False\n",
    "#         print(\"Failed: ((y1 > ymax) or (y2 > ymax))\")\n",
    "    if ((y1 < ymin) or (y2 < ymin)):\n",
    "        success = False\n",
    "#         print(\"Failed: ((y1 < ymin) or (y2 < ymin))\")\n",
    "\n",
    "    if ((x2 - x1) <= 1 ):\n",
    "        success = False\n",
    "#         print(\"Failed: (x2 <= x1)\")\n",
    "    if ((y2 - y1) <= 1):\n",
    "        success = False\n",
    "#         print(\"Failed: (y2 <= y1)\")\n",
    "\n",
    "    if not success:\n",
    "#         print(\"Invalid coordinate:\\n\\t{} {} {} {} \\n\\t{} {} {} {}\".format(x1,x2,y1,y2, xmin, xmax, ymin, ymax))\n",
    "#         print(msg)\n",
    "        pass\n",
    "    return success\n",
    "\n",
    "# *************************************************************\n",
    "#   Author       : HM Fazle Rabbi\n",
    "#   Description  : Validation invalid coordinates in x1, y1...\n",
    "#   Date Modified: \n",
    "#   Copyright © 2000, MV Technology Ltd. All rights reserved.\n",
    "# *************************************************************\n",
    "def validate_cxcy (cx, cy, xmin, xmax, ymin, ymax, msg):\n",
    "    success = True\n",
    "    if ((cx > xmax) or (cy > ymax)) :\n",
    "        success = False\n",
    "#         print(\"Failed: (cx > xmax) or (cy > ymax) \")\n",
    "    if ((cx < xmin) or (cy < ymin)):\n",
    "        success = False\n",
    "#         print(\"Failed:  ((cx < xmin) or (cy < ymin))\")\n",
    "        if not success:\n",
    "            print(msg)\n",
    "    return success"
   ]
  },
  {
   "cell_type": "markdown",
   "metadata": {},
   "source": [
    "### Create Mongo db"
   ]
  },
  {
   "cell_type": "code",
   "execution_count": 7,
   "metadata": {},
   "outputs": [],
   "source": [
    "db_name=\"Aoi_Boards-00\"\n",
    "collection_name=\"Aoi_Boards_2020_E01\"\n",
    "myclient = pymongo.MongoClient(\"mongodb://localhost:27017/\")\n",
    "mydb = myclient[db_name]"
   ]
  },
  {
   "cell_type": "code",
   "execution_count": 1,
   "metadata": {},
   "outputs": [],
   "source": [
    "# WARNING\n",
    "# Delete old database\n",
    "if 0:\n",
    "    mydb[collection_name].drop()"
   ]
  },
  {
   "cell_type": "code",
   "execution_count": 10,
   "metadata": {},
   "outputs": [
    {
     "name": "stdout",
     "output_type": "stream",
     "text": [
      "myboard_col.count():\t 0\n"
     ]
    }
   ],
   "source": [
    "# Get collection\n",
    "myboard_col = mydb[collection_name]\n",
    "print(\"myboard_col.count():\\t\", myboard_col.estimated_document_count())"
   ]
  },
  {
   "cell_type": "code",
   "execution_count": 11,
   "metadata": {},
   "outputs": [],
   "source": [
    "def addDfToDatabase(df, my_col, bname=None):\n",
    "    for i, row in df.iterrows():\n",
    "\n",
    "        # Board info\n",
    "        path = os.path.normpath(row['path'])\n",
    "        dir_list=path.split(os.sep)\n",
    "        board_name = bname.strip()\n",
    "        tile_id=dir_list[-2].strip()\n",
    "        if(dir_list[-3] != 'Tiles'):\n",
    "            print(\"ERROR: Invalid path entry detected! \\n\", path)\n",
    "            sys.exit()\n",
    "        path=board_name+'/'+'Tiles/'+str(tile_id)+\"/\"+dir_list[-1]\n",
    "        \n",
    "        #Error\n",
    "        error_msg=row['error'].upper()\n",
    "        if  error_msg==\"OK\": \n",
    "            error_count = 0 \n",
    "        else: \n",
    "            error_count = 1 \n",
    "    \n",
    "\n",
    "        # Search area\n",
    "        searchArea = json.loads(row['searchArea'])  \n",
    "        if not (validate_cxcy (searchArea[4],searchArea[5], searchArea[0],searchArea[2],searchArea[1],searchArea[3], \"[ERROR]: Invalid body center location!\")):\n",
    "            if (error_count):\n",
    "                error_msg=error_msg + \",\" +  FAULT_NAME['mismatchsearchareacenter'] #\",MISMATCH SEARCHAREA CENTER\" \n",
    "            else: \n",
    "                error_msg=FAULT_NAME['mismatchsearchareacenter']\n",
    "            error_count =error_count+1\n",
    "                \n",
    "        if not (validate_x1y1x2y2 (searchArea[0],searchArea[2],searchArea[1],searchArea[3], 0,2048, 0,2048, \"[ERROR]: Invalid search area!\")):\n",
    "            if (error_count):\n",
    "                error_msg=error_msg + \",\" + FAULT_NAME['outofboundsearcharea'] #\",OUTOFBOUND SEARCHAREA\" \n",
    "            else: \n",
    "                error_msg=FAULT_NAME['outofboundsearcharea'] \n",
    "            error_count =error_count+1\n",
    "\n",
    "            \n",
    "        # Body\n",
    "        body = json.loads(row['body_dims'])\n",
    "        if not (validate_x1y1x2y2 (body[0],body[2],body[1],body[3], searchArea[0],searchArea[2],searchArea[1],searchArea[3], \"[ERROR]: Invalid body dimension or location!\")):\n",
    "            if (error_count):\n",
    "                error_msg=error_msg +\",\" + FAULT_NAME['invalidbodydimensions'] #\",INVALID BODY DIMENSIONS\" \n",
    "            else: \n",
    "                error_msg=FAULT_NAME['invalidbodydimensions'] \n",
    "            error_count =error_count+1\n",
    "\n",
    "        if not (validate_cxcy (body[7],body[8], body[0],body[2],body[1],body[3], \"[ERROR]: Invalid body center location!\")):\n",
    "            if (error_count):\n",
    "                error_msg=error_msg+\",MISMATCH BODY CENTER\" \n",
    "            else: \n",
    "                error_msg=\"MISMATCH BODY CENTER\" \n",
    "            error_count =error_count+1\n",
    "            \n",
    "        # Pin\n",
    "        pin_array=[]\n",
    "        if(row['pins_dims']):\n",
    "            data_list = json.loads(row['pins_dims'])\n",
    "            if(data_list):\n",
    "                for data in data_list:\n",
    "                    if (max(data) > 0):\n",
    "                        _temp = {\n",
    "                            \"x1\":  data[0],\n",
    "                            \"y1\":  data[1],\n",
    "                            \"x2\":  data[2],\n",
    "                            \"y2\":  data[3]\n",
    "                        }\n",
    "                        if (validate_x1y1x2y2 (_temp[\"x1\"],_temp[\"x2\"],_temp[\"y1\"],_temp[\"y2\"], searchArea[0],searchArea[2],searchArea[1],searchArea[3], \"[ERROR]: Invalid pin dimension or location!\")):\n",
    "                            pin_array.append(_temp)\n",
    "                        else:\n",
    "                            if (error_count):\n",
    "                                if  FAULT_NAME['missingpins'] not in error_msg: error_msg=error_msg + \",\" + FAULT_NAME['missingpins']\n",
    "                            else: \n",
    "                                error_msg=FAULT_NAME['missingpins']\n",
    "                            error_count =error_count+1\n",
    "\n",
    "        # Create Document\n",
    "        document = {\n",
    "            'board_name':board_name,\n",
    "            'tile_id': tile_id,\n",
    "            'path':path,\n",
    "            'refDes ':row.refDes,\n",
    "            'package':row.package,\n",
    "            'package':row.package,\n",
    "            'search_area':{\n",
    "                \"x1\":  searchArea[0],\n",
    "                \"y1\":  searchArea[1],\n",
    "                \"x2\":  searchArea[2],\n",
    "                \"y2\":  searchArea[3],\n",
    "                \"cx\":  searchArea[4],\n",
    "                \"cy\":  searchArea[5]\n",
    "            },\n",
    "            'body_dim':{\n",
    "                \"x1\":  body[0],\n",
    "                \"y1\":  body[1],\n",
    "                \"x2\":  body[2],\n",
    "                \"y2\":  body[3],\n",
    "                \"width\":  body[4],\n",
    "                \"height\":  body[5],\n",
    "                \"ori\":  body[6],\n",
    "                \"cx\":  body[7],\n",
    "                \"cy\":  body[8]\n",
    "            },\n",
    "            'pins':{\n",
    "                'len': len (pin_array),\n",
    "                'dim_list':pin_array\n",
    "            },\n",
    "            'ocv_dims':row['ocv_dims'],\n",
    "            'type_rep':row['type_rep'],\n",
    "            'error':error_msg.split(',')[-1],\n",
    "            'error_stack': error_msg.split(','),\n",
    "            'tile_files_info':{\n",
    "                'total_channels':-1,\n",
    "                'channel_list':[],\n",
    "                'pgm_exist':-1,\n",
    "                'rgb_exist':-1,\n",
    "                'tdev':-1\n",
    "            },\n",
    "            'date_created':datetime.datetime.now().strftime(\"%Y%m%d_%H%M\"),\n",
    "            'date_modified':datetime.datetime.now().strftime(\"%Y%m%d_%H%M\"),\n",
    "            'author': author\n",
    "\n",
    "        }\n",
    "        my_col.insert_one (document)\n",
    "        #print(document)\n",
    "\n",
    "\n"
   ]
  },
  {
   "cell_type": "markdown",
   "metadata": {},
   "source": [
    "## WARNING\n",
    "- Makes changes to database\n",
    "\n",
    "### Write to collection \n",
    "- Only updates the database\n",
    "- Doesnot write anything to disk"
   ]
  },
  {
   "cell_type": "code",
   "execution_count": 12,
   "metadata": {},
   "outputs": [
    {
     "name": "stdout",
     "output_type": "stream",
     "text": [
      "Start loading 34 boards...\n",
      "Analysing:  D:/FZ_WS/JyNB/Yolo_LD/Tf_Yolov3/LD_Files/Boards/Aoi_Boards_2020_E01/03015_#2/output/updated_all_tiles.csv\n",
      "Analysing:  D:/FZ_WS/JyNB/Yolo_LD/Tf_Yolov3/LD_Files/Boards/Aoi_Boards_2020_E01/03015_#3/output/updated_all_tiles.csv\n",
      "Analysing:  D:/FZ_WS/JyNB/Yolo_LD/Tf_Yolov3/LD_Files/Boards/Aoi_Boards_2020_E01/03015_#5/output/updated_all_tiles.csv\n",
      "Analysing:  D:/FZ_WS/JyNB/Yolo_LD/Tf_Yolov3/LD_Files/Boards/Aoi_Boards_2020_E01/03022TNL-TOP-A/output/updated_all_tiles.csv\n",
      "Analysing:  D:/FZ_WS/JyNB/Yolo_LD/Tf_Yolov3/LD_Files/Boards/Aoi_Boards_2020_E01/03022UMXTA/output/updated_all_tiles.csv\n",
      "Analysing:  D:/FZ_WS/JyNB/Yolo_LD/Tf_Yolov3/LD_Files/Boards/Aoi_Boards_2020_E01/100642-04-BOT-D/output/updated_all_tiles.csv\n",
      "Analysing:  D:/FZ_WS/JyNB/Yolo_LD/Tf_Yolov3/LD_Files/Boards/Aoi_Boards_2020_E01/12067-B/output/updated_all_tiles.csv\n",
      "Analysing:  D:/FZ_WS/JyNB/Yolo_LD/Tf_Yolov3/LD_Files/Boards/Aoi_Boards_2020_E01/2018-09-139/output/updated_all_tiles.csv\n",
      "Analysing:  D:/FZ_WS/JyNB/Yolo_LD/Tf_Yolov3/LD_Files/Boards/Aoi_Boards_2020_E01/2AB017-1V40CA-4961243/output/updated_all_tiles.csv\n",
      "Analysing:  D:/FZ_WS/JyNB/Yolo_LD/Tf_Yolov3/LD_Files/Boards/Aoi_Boards_2020_E01/73-13258-07_C0_TOP_JMX/output/updated_all_tiles.csv\n",
      "Analysing:  D:/FZ_WS/JyNB/Yolo_LD/Tf_Yolov3/LD_Files/Boards/Aoi_Boards_2020_E01/903057B-01/output/updated_all_tiles.csv\n",
      "Analysing:  D:/FZ_WS/JyNB/Yolo_LD/Tf_Yolov3/LD_Files/Boards/Aoi_Boards_2020_E01/AGI-VR-G2581-61007-panelized/output/updated_all_tiles.csv\n",
      "Analysing:  D:/FZ_WS/JyNB/Yolo_LD/Tf_Yolov3/LD_Files/Boards/Aoi_Boards_2020_E01/C7H05-SATM001-0B/output/updated_all_tiles.csv\n",
      "Analysing:  D:/FZ_WS/JyNB/Yolo_LD/Tf_Yolov3/LD_Files/Boards/Aoi_Boards_2020_E01/CIE_NTK761AA_420_RL008_bot_3D/output/updated_all_tiles.csv\n",
      "Analysing:  D:/FZ_WS/JyNB/Yolo_LD/Tf_Yolov3/LD_Files/Boards/Aoi_Boards_2020_E01/E387503100_A0RC-CS/output/updated_all_tiles.csv\n",
      "Analysing:  D:/FZ_WS/JyNB/Yolo_LD/Tf_Yolov3/LD_Files/Boards/Aoi_Boards_2020_E01/EPDFXXX21MS-V4/output/updated_all_tiles.csv\n",
      "Analysing:  D:/FZ_WS/JyNB/Yolo_LD/Tf_Yolov3/LD_Files/Boards/Aoi_Boards_2020_E01/ERROA1283711_2R1G_01_B_90/output/updated_all_tiles.csv\n",
      "Analysing:  D:/FZ_WS/JyNB/Yolo_LD/Tf_Yolov3/LD_Files/Boards/Aoi_Boards_2020_E01/ERROA1283711_2R1G_01_T_90/output/updated_all_tiles.csv\n",
      "Analysing:  D:/FZ_WS/JyNB/Yolo_LD/Tf_Yolov3/LD_Files/Boards/Aoi_Boards_2020_E01/ERROA1285805_1R1D_01_T_90/output/updated_all_tiles.csv\n",
      "Analysing:  D:/FZ_WS/JyNB/Yolo_LD/Tf_Yolov3/LD_Files/Boards/Aoi_Boards_2020_E01/F1_PMLE5082A_B_REVA/output/updated_all_tiles.csv\n",
      "Analysing:  D:/FZ_WS/JyNB/Yolo_LD/Tf_Yolov3/LD_Files/Boards/Aoi_Boards_2020_E01/FID8250_MF_DSDA_rev8_Tpan/output/updated_all_tiles.csv\n",
      "Analysing:  D:/FZ_WS/JyNB/Yolo_LD/Tf_Yolov3/LD_Files/Boards/Aoi_Boards_2020_E01/FID8868_Yuma_DUT_T/output/updated_all_tiles.csv\n",
      "Analysing:  D:/FZ_WS/JyNB/Yolo_LD/Tf_Yolov3/LD_Files/Boards/Aoi_Boards_2020_E01/FMC-GN31-MB-679-T/output/updated_all_tiles.csv\n",
      "Analysing:  D:/FZ_WS/JyNB/Yolo_LD/Tf_Yolov3/LD_Files/Boards/Aoi_Boards_2020_E01/G29836-013_T/output/updated_all_tiles.csv\n",
      "Analysing:  D:/FZ_WS/JyNB/Yolo_LD/Tf_Yolov3/LD_Files/Boards/Aoi_Boards_2020_E01/G70000314_PEQ5AL_TOP/output/updated_all_tiles.csv\n",
      "Analysing:  D:/FZ_WS/JyNB/Yolo_LD/Tf_Yolov3/LD_Files/Boards/Aoi_Boards_2020_E01/HPM5-JC92-02808A_TOP/output/updated_all_tiles.csv\n",
      "Analysing:  D:/FZ_WS/JyNB/Yolo_LD/Tf_Yolov3/LD_Files/Boards/Aoi_Boards_2020_E01/HS_30320-0401-0201_D_X_B/output/updated_all_tiles.csv\n",
      "Analysing:  D:/FZ_WS/JyNB/Yolo_LD/Tf_Yolov3/LD_Files/Boards/Aoi_Boards_2020_E01/HUW-03025RMN_B/output/updated_all_tiles.csv\n",
      "Analysing:  D:/FZ_WS/JyNB/Yolo_LD/Tf_Yolov3/LD_Files/Boards/Aoi_Boards_2020_E01/HW-ALE-KMJ-F-X02/output/updated_all_tiles.csv\n",
      "Analysing:  D:/FZ_WS/JyNB/Yolo_LD/Tf_Yolov3/LD_Files/Boards/Aoi_Boards_2020_E01/HW-IP008-DGT/output/updated_all_tiles.csv\n",
      "Analysing:  D:/FZ_WS/JyNB/Yolo_LD/Tf_Yolov3/LD_Files/Boards/Aoi_Boards_2020_E01/HW-IP012-GSJ-AF08-A/output/updated_all_tiles.csv\n",
      "Analysing:  D:/FZ_WS/JyNB/Yolo_LD/Tf_Yolov3/LD_Files/Boards/Aoi_Boards_2020_E01/HW-IP012-GSJ-AF08-B/output/updated_all_tiles.csv\n",
      "Analysing:  D:/FZ_WS/JyNB/Yolo_LD/Tf_Yolov3/LD_Files/Boards/Aoi_Boards_2020_E01/HW-MHA-BJB-F-TR11A-01-TMP/output/updated_all_tiles.csv\n",
      "Analysing:  D:/FZ_WS/JyNB/Yolo_LD/Tf_Yolov3/LD_Files/Boards/Aoi_Boards_2020_E01/IF-300-0390-103-E01-B/output/updated_all_tiles.csv\n",
      "\n",
      "Loading all board completed\n"
     ]
    }
   ],
   "source": [
    "board_basedir=\"D:/FZ_WS/JyNB/Yolo_LD/Tf_Yolov3/LD_Files/Boards/Aoi_Boards_2020_E01\"\n",
    "boardname_list=os.listdir(board_basedir)\n",
    "print(\"Start loading {} boards...\".format(len(boardname_list)))\n",
    "# boardname_list=[\n",
    "# #     'AGG5500-61003-R3-T',\n",
    "#     \"B8PA_LEFT_90121351_B125\"\n",
    "# ]\n",
    "\n",
    "\n",
    "def readboardlist_tomongodb(boardname_list, mycol):\n",
    "    for bname in boardname_list:\n",
    "        path='{}/{}/output/updated_all_tiles.csv'.format(board_basedir,bname)\n",
    "        print(\"Analysing: \",path)\n",
    "        if (os.path.isfile(path)):\n",
    "            df = pd.read_csv(path)\n",
    "            df = replace_noerror(df)\n",
    "            try:\n",
    "                addDfToDatabase(df, mycol, bname)       \n",
    "            except:\n",
    "                print(\"Failed \", bname)\n",
    "        else:\n",
    "            print(\"Invalid file {}\".format(path))\n",
    "            raise FileExistsError(\"Missing {}\".format(path))\n",
    "    print    (\"\\nLoading all board completed\") \n",
    "        \n",
    "\n",
    "if 0: #WARNING: Use extreme caution while upadating database\n",
    "        readboardlist_tomongodb(boardname_list, myboard_col)      "
   ]
  },
  {
   "cell_type": "markdown",
   "metadata": {},
   "source": [
    "----------------------------------------------------------"
   ]
  },
  {
   "cell_type": "markdown",
   "metadata": {},
   "source": [
    "## Analyse\n",
    "- Distribution of refdes\n",
    "- Distribution across board"
   ]
  },
  {
   "cell_type": "code",
   "execution_count": 13,
   "metadata": {},
   "outputs": [
    {
     "name": "stdout",
     "output_type": "stream",
     "text": [
      "myboard_col.count():\t 61569 \n",
      "\n",
      "{'_id': ObjectId('5eb8c75ee9019099aa005baa'), 'board_name': '03015_#2', 'tile_id': '0', 'path': '03015_#2/Tiles/0/03015_#2_RGB.jpg', 'refDes ': 'r1', 'package': 'BGA', 'search_area': {'x1': 2359, 'y1': 1367, 'x2': 2393, 'y2': 1427, 'cx': 2376, 'cy': 1397}, 'body_dim': {'x1': 2366, 'y1': 1376, 'x2': 2384, 'y2': 1411, 'width': 18, 'height': 35, 'ori': 0, 'cx': 2375, 'cy': 1393}, 'pins': {'len': 0, 'dim_list': []}, 'ocv_dims': 0, 'type_rep': 'b200vert', 'error': 'OUTOFBOUND SEARCHAREA', 'error_stack': ['MISSING', 'OUTOFBOUND SEARCHAREA'], 'tile_files_info': {'total_channels': -1, 'channel_list': [], 'pgm_exist': -1, 'rgb_exist': -1, 'tdev': -1}, 'date_created': '20200511_1132', 'date_modified': '20200511_1132', 'author': 'Fazle'} \n",
      "\n"
     ]
    }
   ],
   "source": [
    "print(\"myboard_col.count():\\t\", myboard_col.estimated_document_count(),\"\\n\")\n",
    "print(myboard_col.find_one(),\"\\n\")"
   ]
  },
  {
   "cell_type": "code",
   "execution_count": 14,
   "metadata": {},
   "outputs": [
    {
     "name": "stdout",
     "output_type": "stream",
     "text": [
      "package count distribution ------------------\n",
      "package\n",
      "BGA               1175\n",
      "CAPACITOR_NL        18\n",
      "CC               32807\n",
      "COIL_IND           135\n",
      "COIL_INDUCTOR      371\n",
      "CR               17393\n",
      "CRNETWORK          494\n",
      "CRYSTAL             89\n",
      "DPAK                24\n",
      "ECAP                46\n",
      "INDUCTOR           161\n",
      "Inductor            25\n",
      "LED                 83\n",
      "MELF                20\n",
      "QFN                668\n",
      "QFP                 29\n",
      "SOD_FLAT           573\n",
      "SOD_GULL             2\n",
      "SOD_J               67\n",
      "SOIC               697\n",
      "SOT                835\n",
      "SOT223_4L           18\n",
      "TANTALAM           377\n",
      "unknown           5462\n",
      "Name: package, dtype: int64\n"
     ]
    },
    {
     "data": {
      "image/png": "[encoded data removed]",
      "text/plain": [
       "<Figure size 2304x576 with 1 Axes>"
      ]
     },
     "metadata": {
      "needs_background": "light"
     },
     "output_type": "display_data"
    }
   ],
   "source": [
    "# Package count distribution in whole database\n",
    "_df=pd.DataFrame(myboard_col.find({},{'package':True}))\n",
    "barplot_distribution(_df, col='package',  title=\"count distribution\", table=True)"
   ]
  },
  {
   "cell_type": "code",
   "execution_count": 15,
   "metadata": {},
   "outputs": [
    {
     "name": "stdout",
     "output_type": "stream",
     "text": [
      "board_name  based total refdes distribution ------------------\n",
      "board_name\n",
      "03015_#2                          246\n",
      "03015_#3                          246\n",
      "03015_#5                          246\n",
      "03022TNL-TOP-A                   3768\n",
      "03022UMXTA                       3429\n",
      "100642-04-BOT-D                  1443\n",
      "12067-B                          4800\n",
      "2018-09-139                      1054\n",
      "2AB017-1V40CA-4961243             828\n",
      "73-13258-07_C0_TOP_JMX            815\n",
      "903057B-01                        712\n",
      "AGI-VR-G2581-61007-panelized     1572\n",
      "C7H05-SATM001-0B                 1733\n",
      "CIE_NTK761AA_420_RL008_bot_3D    4800\n",
      "E387503100_A0RC-CS                643\n",
      "EPDFXXX21MS-V4                    622\n",
      "ERROA1283711_2R1G_01_B_90        4716\n",
      "ERROA1283711_2R1G_01_T_90        2135\n",
      "ERROA1285805_1R1D_01_T_90        3513\n",
      "F1_PMLE5082A_B_REVA              3960\n",
      "FID8250_MF_DSDA_rev8_Tpan         990\n",
      "FID8868_Yuma_DUT_T                  8\n",
      "FMC-GN31-MB-679-T                 952\n",
      "G29836-013_T                      720\n",
      "G70000314_PEQ5AL_TOP             1329\n",
      "HPM5-JC92-02808A_TOP              800\n",
      "HS_30320-0401-0201_D_X_B          829\n",
      "HUW-03025RMN_B                    392\n",
      "HW-ALE-KMJ-F-X02                 1045\n",
      "HW-IP008-DGT                     2752\n",
      "HW-IP012-GSJ-AF08-A              1626\n",
      "HW-IP012-GSJ-AF08-B              1276\n",
      "HW-MHA-BJB-F-TR11A-01-TMP        2770\n",
      "IF-300-0390-103-E01-B            4799\n",
      "Name: board_name, dtype: int64\n"
     ]
    },
    {
     "data": {
      "image/png": "[encoded data removed]",
      "text/plain": [
       "<Figure size 2304x576 with 1 Axes>"
      ]
     },
     "metadata": {
      "needs_background": "light"
     },
     "output_type": "display_data"
    }
   ],
   "source": [
    "# Package count distribution in whole database by board_name\n",
    "_df=pd.DataFrame(myboard_col.find({},{'board_name':True}))\n",
    "barplot_distribution(_df, col='board_name',  title=\" based total refdes distribution\", table=True)"
   ]
  },
  {
   "cell_type": "markdown",
   "metadata": {},
   "source": [
    "### Board info graph analysis\n",
    "- Distribution of all the errors and their count\n"
   ]
  },
  {
   "cell_type": "markdown",
   "metadata": {},
   "source": [
    "##### Csv Error analysis"
   ]
  },
  {
   "cell_type": "code",
   "execution_count": 16,
   "metadata": {},
   "outputs": [
    {
     "name": "stdout",
     "output_type": "stream",
     "text": [
      "error - Distribution ------------------\n",
      "error\n",
      "BADJOINT                     553\n",
      "BILLBOARD                    162\n",
      "COPLANARITY                   19\n",
      "DAMAGED                        3\n",
      "EXTRA                         28\n",
      "FLIPPED                       14\n",
      "INVALID BODY DIMENSIONS     6298\n",
      "LIFTED                         1\n",
      "MISSING                      435\n",
      "MISSING PINS                 791\n",
      "OCV                          934\n",
      "OFFSET                       638\n",
      "OK                         25467\n",
      "OUTOFBOUND SEARCHAREA      26114\n",
      "PASTE                          2\n",
      "POLARITY                      32\n",
      "SKEW                          78\n",
      "Name: error, dtype: int64\n"
     ]
    },
    {
     "data": {
      "image/png": "[encoded data removed]",
      "text/plain": [
       "<Figure size 2304x576 with 1 Axes>"
      ]
     },
     "metadata": {
      "needs_background": "light"
     },
     "output_type": "display_data"
    }
   ],
   "source": [
    "_df=pd.DataFrame(myboard_col.find({},{'error':True}))\n",
    "barplot_distribution(_df, col='error',  title=\"- Distribution\", table=True)"
   ]
  },
  {
   "cell_type": "code",
   "execution_count": 17,
   "metadata": {},
   "outputs": [
    {
     "name": "stdout",
     "output_type": "stream",
     "text": [
      "len of number of error in error stack ------------------\n",
      "len\n",
      "1    27473\n",
      "2     6928\n",
      "3      932\n",
      "4      769\n",
      "Name: len, dtype: int64\n"
     ]
    },
    {
     "data": {
      "image/png": "[encoded data removed]",
      "text/plain": [
       "<Figure size 720x576 with 1 Axes>"
      ]
     },
     "metadata": {
      "needs_background": "light"
     },
     "output_type": "display_data"
    }
   ],
   "source": [
    "# Error frequency per refdes\n",
    "myquery={ \"error\": { \"$ne\": \"OK\" } }\n",
    "_df=pd.DataFrame(myboard_col.find(myquery,{'error_stack':True, '_id':False}))\n",
    "_df['len']=_df['error_stack'].apply(len)\n",
    "barplot_distribution(_df, col='len',  title=\"of number of error in error stack\", fig_dw=10, table=True, dtype='int')"
   ]
  },
  {
   "cell_type": "code",
   "execution_count": null,
   "metadata": {},
   "outputs": [],
   "source": []
  }
 ],
 "metadata": {
  "kernelspec": {
   "display_name": "Python 3",
   "language": "python",
   "name": "python3"
  },
  "language_info": {
   "codemirror_mode": {
    "name": "ipython",
    "version": 3
   },
   "file_extension": ".py",
   "mimetype": "text/x-python",
   "name": "python",
   "nbconvert_exporter": "python",
   "pygments_lexer": "ipython3",
   "version": "3.6.10"
  }
 },
 "nbformat": 4,
 "nbformat_minor": 4
}
