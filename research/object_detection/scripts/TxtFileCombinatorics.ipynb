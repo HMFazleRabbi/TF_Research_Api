{
 "cells": [
  {
   "cell_type": "code",
   "execution_count": 1,
   "metadata": {},
   "outputs": [
    {
     "name": "stdout",
     "output_type": "stream",
     "text": [
      "Setup Complete\n"
     ]
    }
   ],
   "source": [
    "import pandas as pd\n",
    "from tqdm  import tqdm\n",
    "import os, glob, shutil\n",
    "pd.plotting.register_matplotlib_converters()\n",
    "import matplotlib.pyplot as plt\n",
    "%matplotlib inline\n",
    "import seaborn as sns\n",
    "from IPython.display import display\n",
    "from IPython.display import Image\n",
    "print(\"Setup Complete\")"
   ]
  },
  {
   "cell_type": "markdown",
   "metadata": {},
   "source": [
    "## Validation space - 1\n",
    "- Goes through all the txt files and checks for repetitive lines\n",
    "- run on a folder containing a list of text files"
   ]
  },
  {
   "cell_type": "code",
   "execution_count": 5,
   "metadata": {},
   "outputs": [
    {
     "name": "stderr",
     "output_type": "stream",
     "text": [
      "100%|██████████████████████████████████████████████████████████████████████████████████████████████████████████████████████████████████████████████████████████████████████████████████████████████████████████████| 245/245 [00:00<00:00, 9073.05it/s]\n"
     ]
    }
   ],
   "source": [
    "import os\n",
    "\n",
    "os.chdir('D:/FZ_WS/JyNB/TF_Research_Api_LD_2_0/research/object_detection/')\n",
    "src_dir = 'images/H_Dataset_00/AGIH-VR-G2571-61103-panelized/txt'\n",
    "src_dir = 'images/H_Dataset_02/txt'\n",
    "\n",
    "flist = os.listdir(src_dir)\n",
    "\n",
    "# Search repetitive lines    \n",
    "for fname in tqdm(flist):\n",
    "    fpath = os.path.join(src_dir, fname)\n",
    "    with open(fpath, 'r') as f:\n",
    "        data = f.readlines()\n",
    "    \n",
    "    for i, line in enumerate(data[:-1]):\n",
    "        if line in data[i+1:]:\n",
    "            print(\"[ERROR]: \",fname,\"\\t->\\t\", line)    "
   ]
  },
  {
   "cell_type": "markdown",
   "metadata": {},
   "source": [
    "## Validation space - 2\n",
    "- Dimension checker\n",
    "- Read only"
   ]
  },
  {
   "cell_type": "code",
   "execution_count": 8,
   "metadata": {},
   "outputs": [
    {
     "name": "stderr",
     "output_type": "stream",
     "text": [
      "100%|████████████████████████████████████████████████████████████████████████████████████████████████████████████████████████████████████████████████████████████████████████████████████████████████████████████████| 245/245 [00:06<00:00, 36.43it/s]\n"
     ]
    }
   ],
   "source": [
    "import os, cv2\n",
    "import pandas as pd\n",
    "\n",
    "    \n",
    "os.chdir('D:/FZ_WS/JyNB/TF_Research_Api_LD_2_0/research/object_detection/')\n",
    "src_dir = 'images/H_Dataset_02/txt'\n",
    "img_dir = 'images/H_Dataset_02/img'\n",
    "\n",
    "def dim_validator(df, msg =\"Dimesion analysis complete!\"):\n",
    "    _temp = df[df['xmax']<df['xmin']]\n",
    "    if (len(_temp)): print(\"df[df['xmax']<df['xmin']]\",_temp)\n",
    "\n",
    "    _temp = df[df['ymax']<df['ymin']]\n",
    "    if (len(_temp)): print(\"df[df['ymax']<df['ymin']]\",_temp)\n",
    "\n",
    "    _temp = df[df['height']<df['ymin']]\n",
    "    if (len(_temp)): print(\"df[df['height']<df['ymin']]\\n\",_temp)\n",
    "\n",
    "    _temp = df[df['height']<df['ymax']]\n",
    "    if (len(_temp)): print(\"df[df['height']<df['ymax']]\\n\",_temp)\n",
    "\n",
    "    _temp = df[df['width']<df['xmin']]\n",
    "    if (len(_temp)): print(\"df[df['width']<df['xmin']]\\n\",_temp)\n",
    "\n",
    "    _temp = df[df['width']<df['xmax']]\n",
    "    if (len(_temp)): print(\" df[df['width']<df['xmax']]\\n\",_temp)\n",
    "\n",
    "    if (len(df[df['width']< 1]) or len(df[df['height']<1])): print(\"Negative dimension\")\n",
    "    if (len(df[df['xmin']<  1]) or len(df[df['xmax']<1])): print(\"Negative dimension x\")\n",
    "    if (len(df[df['ymin']<  1]) or len(df[df['ymax']<1])): print(\"Negative dimension y\")\n",
    "    # print(msg)    \n",
    "    \n",
    "\n",
    "\n",
    "# Search repetitive lines    \n",
    "flist = os.listdir(src_dir)\n",
    "columns_names= ['xmin', 'ymin', 'xmax', 'ymax', 'class']\n",
    "for fname in tqdm(flist):\n",
    "    fpath = os.path.join(src_dir, fname)\n",
    "    #img_path=os.path.join(img_dir, fname.replace('.txt','_8.jpg'))\n",
    "    img_path=os.path.join(img_dir, fname.replace('.txt','.jpg'))\n",
    "    if not os.path.exists(fpath):\n",
    "        print(\"[ERROR]: Missing {}\".format(fpath))\n",
    "    if not os.path.exists(img_path):\n",
    "        print(\"[ERROR]: Missing {}\".format(img_path))\n",
    "    img = cv2.imread(img_path)\n",
    "    \n",
    "    df = pd.read_csv(fpath, names=columns_names)\n",
    "    df['height'], df['width'],_= img.shape\n",
    "    dim_validator(df, msg =\"Analysis complete for {}!\\n\".format(fname))\n",
    "    \n"
   ]
  },
  {
   "cell_type": "markdown",
   "metadata": {},
   "source": [
    "## Validation space - 3\n",
    "- 1 Body per textfile"
   ]
  },
  {
   "cell_type": "code",
   "execution_count": 10,
   "metadata": {},
   "outputs": [
    {
     "name": "stdout",
     "output_type": "stream",
     "text": [
      "Scan of 245 files completed!\n"
     ]
    },
    {
     "data": {
      "text/plain": [
       "<matplotlib.axes._subplots.AxesSubplot at 0x287488a5e48>"
      ]
     },
     "execution_count": 10,
     "metadata": {},
     "output_type": "execute_result"
    },
    {
     "data": {
      "image/png": "[encoded data removed]",
      "text/plain": [
       "<Figure size 1152x432 with 1 Axes>"
      ]
     },
     "metadata": {
      "needs_background": "light"
     },
     "output_type": "display_data"
    },
    {
     "data": {
      "image/png": "[encoded data removed]",
      "text/plain": [
       "<Figure size 1152x432 with 1 Axes>"
      ]
     },
     "metadata": {
      "needs_background": "light"
     },
     "output_type": "display_data"
    }
   ],
   "source": [
    "import os\n",
    "import pandas as pd\n",
    "from tqdm import tqdm\n",
    "import seaborn as sns\n",
    "\n",
    "os.chdir('D:/FZ_WS/JyNB/TF_Research_Api_LD_2_0/research/object_detection/')\n",
    "body_count_list=[]\n",
    "pin_count_list=[]\n",
    "\n",
    "body_label=1\n",
    "pin_label=0\n",
    "body_label=0\n",
    "pin_label=1\n",
    "\n",
    "def isOneBodyLabel(lines):\n",
    "    count = 0\n",
    "    for line in lines:\n",
    "        if (int(line.strip().split(',')[-1])== body_label): count = count + 1\n",
    "            \n",
    "    #  Return\n",
    "    body_count_list.append(count)\n",
    "    pin_count_list.append(len(lines)-count)\n",
    "    if (count == 1): \n",
    "        return True, count\n",
    "    else:\n",
    "        return False, count\n",
    "    \n",
    "    \n",
    "# Txt files\n",
    "src_dir = 'images/H_Dataset_00/AGIH-VR-G2571-61103-panelized/txt'\n",
    "src_dir = 'images/H_Dataset_02/txt'\n",
    "flist = os.listdir(src_dir)\n",
    "for fname in flist:\n",
    "    fpath = os.path.join(src_dir, fname)\n",
    "    with open(fpath, 'r') as f:\n",
    "        data = f.readlines()\n",
    "        #print(fpath, data)\n",
    "        \n",
    "    flag, count = isOneBodyLabel(data)    \n",
    "    if not (flag):\n",
    "        print(\"[ERROR]\\t {}: \\tMultiple body {}\".format(fname, count) )\n",
    "        \n",
    "print(\"Scan of {} files completed!\".format(len(flist)))\n",
    "\n",
    "\n",
    "body_count_df = pd.DataFrame({'Body': body_count_list})\n",
    "pin_count_df = pd.DataFrame({'Pin':  pin_count_list})\n",
    "\n",
    "plt.figure(figsize=(16,6))\n",
    "plt.title(\"Body\")\n",
    "sns.barplot(x=body_count_df.groupby('Body').Body.count().index, y=body_count_df.groupby('Body').Body.count().values)\n",
    "plt.figure(figsize=(16,6))\n",
    "plt.title(\"Pin\")\n",
    "sns.barplot(x=pin_count_df.groupby('Pin').Pin.count().index, y=pin_count_df.groupby('Pin').Pin.count().values)\n"
   ]
  },
  {
   "cell_type": "markdown",
   "metadata": {},
   "source": [
    "## Generatation Train and test"
   ]
  },
  {
   "cell_type": "code",
   "execution_count": 1,
   "metadata": {},
   "outputs": [
    {
     "name": "stderr",
     "output_type": "stream",
     "text": [
      "Items: 10: 100%|████████████████████████████████████████████████████████████████████████████████████████████████████████████████████████████████████████████████████████████████████████████████████████████████████████████████████████| 11/11 [00:00<00:00, 101.36it/s]\n",
      "Items: 3:   0%|                                                                                                                                                                                                                                  | 0/521 [00:00<?, ?it/s]"
     ]
    },
    {
     "name": "stdout",
     "output_type": "stream",
     "text": [
      "Using default IMG_DIR = D:/FZ_WS/JyNB/TF_Research_Api_LD_2_0/research/object_detection/images/H_Dataset_05/pintype\\img\n",
      "Using default txt_DIR = D:/FZ_WS/JyNB/TF_Research_Api_LD_2_0/research/object_detection/images/H_Dataset_05/pintype\\txt\n",
      "Using default input_test_ratio = 0.02\n",
      "[Processing] 532 files are found in directory named txt\n",
      "[Processing] 11 files in test set\n",
      "[Processing] 521 files in train_set\n",
      "[Processing] Copying of test dataset\n",
      "[Processing] Copying of train dataset\n"
     ]
    },
    {
     "name": "stderr",
     "output_type": "stream",
     "text": [
      "Items: 520: 100%|██████████████████████████████████████████████████████████████████████████████████████████████████████████████████████████████████████████████████████████████████████████████████████████████████████████████████████| 521/521 [00:07<00:00, 70.50it/s]"
     ]
    },
    {
     "name": "stdout",
     "output_type": "stream",
     "text": [
      "[Processing] Finish Process\n"
     ]
    },
    {
     "name": "stderr",
     "output_type": "stream",
     "text": [
      "\n"
     ]
    }
   ],
   "source": [
    "# from  scripts.ShuffleAndSeparate import ShuffleAndSeparateToTrainTestSet as genDatasetCsv\n",
    "from  scripts.ShuffleAndSeparate import SingleImageShuffleAndSeparateToTrainTestSet as genDatasetCsv\n",
    "\n",
    "# Extraction\n",
    "root_dir=r'D:/FZ_WS/JyNB/TF_Research_Api_LD_2_0/research/object_detection/images/H_Dataset_00/AGIH-VR-G2571-61103-panelized'\n",
    "root_dir=r'D:/FZ_WS/JyNB/TF_Research_Api_LD_2_0/research/object_detection/images/H_Dataset_02'\n",
    "root_dir=r'D:/FZ_WS/JyNB/TF_Research_Api_LD_2_0/research/object_detection/images/H_Dataset_02/H_Dataset_02_PinOnly'\n",
    "root_dir='D:/FZ_WS/JyNB/TF_Research_Api_LD_2_0/research/object_detection/images/H_Dataset_04'\n",
    "root_dir='D:/FZ_WS/JyNB/TF_Research_Api_LD_2_0/research/object_detection/images/H_Dataset_05/gray'\n",
    "root_dir='D:/FZ_WS/JyNB/TF_Research_Api_LD_2_0/research/object_detection/images/H_Dataset_05/pintype'\n",
    "\n",
    "\n",
    "\n",
    "genDatasetCsv(directory=root_dir, input_img_arg=\"img\", input_txt_arg='txt', input_test_ratio=0.02)"
   ]
  },
  {
   "cell_type": "code",
   "execution_count": 3,
   "metadata": {},
   "outputs": [
    {
     "data": {
      "text/plain": [
       "{0: 'PIN', 1: 'BODY'}"
      ]
     },
     "execution_count": 3,
     "metadata": {},
     "output_type": "execute_result"
    }
   ],
   "source": [
    "reverse_dictionary"
   ]
  },
  {
   "cell_type": "code",
   "execution_count": null,
   "metadata": {},
   "outputs": [],
   "source": []
  }
 ],
 "metadata": {
  "kernelspec": {
   "display_name": "Python 3",
   "language": "python",
   "name": "python3"
  },
  "language_info": {
   "codemirror_mode": {
    "name": "ipython",
    "version": 3
   },
   "file_extension": ".py",
   "mimetype": "text/x-python",
   "name": "python",
   "nbconvert_exporter": "python",
   "pygments_lexer": "ipython3",
   "version": "3.6.10"
  }
 },
 "nbformat": 4,
 "nbformat_minor": 4
}
