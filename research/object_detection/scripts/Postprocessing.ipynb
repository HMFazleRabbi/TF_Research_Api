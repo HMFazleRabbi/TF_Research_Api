{
 "cells": [
  {
   "cell_type": "markdown",
   "metadata": {},
   "source": [
    "# Post processing library"
   ]
  },
  {
   "cell_type": "markdown",
   "metadata": {},
   "source": [
    "## Debug space - 1\n",
    "- Copy all jpg that corresponds to certain all txt files in a directory"
   ]
  },
  {
   "cell_type": "raw",
   "metadata": {},
   "source": [
    "import os, glob, shutil\n",
    "\n",
    "PATH_TO_TEST_IMAGES_DIR = os.path.normpath('D:/FZ_WS/JyNB/TF_Research_Api_LD_2_0/research/object_detection/images_out')\n",
    "PATH_TO_SRC_IMAGES_DIR = os.path.normpath('D:/FZ_WS/JyNB/TF_Research_Api_LD_2_0/research/object_detection/images_out')\n",
    "outdir = 'All_Failed_Img'\n",
    "all_text_files = os.listdir(os.path.join(PATH_TO_TEST_IMAGES_DIR, 'Failed'))\n",
    "if not (os.path.isdir(outdir)):\n",
    "    os.makedirs(outdir)\n",
    "    print(os.getcwd())\n",
    "    \n",
    "for fname in all_text_files:\n",
    "    img_name = fname.replace('txt', 'jpg')\n",
    "    print (img_name)\n",
    "    src = os.path.join(PATH_TO_SRC_IMAGES_DIR, 'Failed', img_name)\n",
    "    dst = os.path.join(outdir, img_name)\n",
    "    shutil.copy(src, dst) \n",
    "    "
   ]
  },
  {
   "cell_type": "markdown",
   "metadata": {},
   "source": [
    "## Debug space - 2"
   ]
  },
  {
   "cell_type": "code",
   "execution_count": 4,
   "metadata": {},
   "outputs": [],
   "source": [
    "\n",
    "def int64_feature(value):\n",
    "  return tf.train.Feature(int64_list=tf.train.Int64List(value=[value]))\n",
    "\n",
    "\n",
    "def int64_list_feature(value):\n",
    "  return tf.train.Feature(int64_list=tf.train.Int64List(value=value))\n",
    "\n",
    "\n",
    "def bytes_feature(value):\n",
    "  return tf.train.Feature(bytes_list=tf.train.BytesList(value=[value]))\n",
    "\n",
    "\n",
    "def bytes_list_feature(value):\n",
    "  return tf.train.Feature(bytes_list=tf.train.BytesList(value=value))\n",
    "\n",
    "\n",
    "def float_list_feature(value):\n",
    "  return tf.train.Feature(float_list=tf.train.FloatList(value=value))\n"
   ]
  },
  {
   "cell_type": "code",
   "execution_count": 24,
   "metadata": {},
   "outputs": [],
   "source": [
    "import tensorflow as tf\n",
    "tf.compat.v1.enable_eager_execution ()\n",
    "\n",
    "def printTfRecordRaw(filename, index):\n",
    "    filenames = [filename]\n",
    "    raw_dataset = tf.data.TFRecordDataset(filenames)\n",
    "    for raw_record in raw_dataset.take(index):\n",
    "        example = tf.train.Example()\n",
    "        example.ParseFromString(raw_record.numpy())\n",
    "        print(example)\n",
    "\n",
    "        \n",
    "# # Create a description of the features.\n",
    "# feature_description = feature={\n",
    "#         'image/height':  int64_feature(height),\n",
    "#         'image/width':  int64_feature(width),\n",
    "#         'image/filename':  bytes_feature(filename),\n",
    "#         'image/source_id':  bytes_feature(filename),\n",
    "#         'image/encoded':  bytes_feature(encoded_jpg),\n",
    "#         'image/format':  bytes_feature(image_format),\n",
    "#         'image/object/bbox/xmin':  float_list_feature(xmins),\n",
    "#         'image/object/bbox/xmax':  float_list_feature(xmaxs),\n",
    "#         'image/object/bbox/ymin':  float_list_feature(ymins),\n",
    "#         'image/object/bbox/ymax':  float_list_feature(ymaxs),\n",
    "#         'image/object/class/text':  bytes_list_feature(classes_text),\n",
    "#         'image/object/class/label':  int64_list_feature(classes),\n",
    "#     }\n",
    "\n",
    "# def _parse_function(example_proto):\n",
    "#   # Parse the input `tf.Example` proto using the dictionary above.\n",
    "#   return tf.io.parse_single_example(example_proto, feature_description)\n",
    "#     print(repr(raw_record))"
   ]
  },
  {
   "cell_type": "raw",
   "metadata": {},
   "source": [
    "printTfRecordRaw(filename=r'D:/FZ_WS/JyNB/TF_Research_Api_LD_2_0/research/object_detection/training/train.record', index=27)"
   ]
  },
  {
   "cell_type": "raw",
   "metadata": {
    "jupyter": {
     "outputs_hidden": true
    }
   },
   "source": [
    "printTfRecordRaw(filename=r'D:/FZ_WS/JyNB/TF_Research_Api_LD_2_0/research/object_detection/training/Checkpoint-Unterricht/train.record', index=1)"
   ]
  }
 ],
 "metadata": {
  "kernelspec": {
   "display_name": "Python 3",
   "language": "python",
   "name": "python3"
  },
  "language_info": {
   "codemirror_mode": {
    "name": "ipython",
    "version": 3
   },
   "file_extension": ".py",
   "mimetype": "text/x-python",
   "name": "python",
   "nbconvert_exporter": "python",
   "pygments_lexer": "ipython3",
   "version": "3.6.10"
  }
 },
 "nbformat": 4,
 "nbformat_minor": 4
}
