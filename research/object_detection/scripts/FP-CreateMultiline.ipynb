{
 "cells": [
  {
   "cell_type": "raw",
   "metadata": {},
   "source": [
    "import cv2 as cv\n",
    "import numpy as np\n",
    "from matplotlib import pyplot as plt\n",
    "img = cv.imread('shuangyawboard_18_8_u8___A3___P20.jpg',0)\n",
    "img2 = img.copy()\n",
    "template = cv.imread('template.jpg',0)\n",
    "w, h = template.shape[::-1]\n",
    "# All the 6 methods for comparison in a list\n",
    "methods = ['cv.TM_CCOEFF', 'cv.TM_CCOEFF_NORMED', 'cv.TM_CCORR',\n",
    "            'cv.TM_CCORR_NORMED', 'cv.TM_SQDIFF', 'cv.TM_SQDIFF_NORMED']\n",
    "for meth in methods:\n",
    "    img = img2.copy()\n",
    "    method = eval(meth)\n",
    "    # Apply template Matching\n",
    "    res = cv.matchTemplate(img,template,method)\n",
    "    min_val, max_val, min_loc, max_loc = cv.minMaxLoc(res)\n",
    "    # If the method is TM_SQDIFF or TM_SQDIFF_NORMED, take minimum\n",
    "    if method in [cv.TM_SQDIFF, cv.TM_SQDIFF_NORMED]:\n",
    "        top_left = min_loc\n",
    "    else:\n",
    "        top_left = max_loc\n",
    "    bottom_right = (top_left[0] + w, top_left[1] + h)\n",
    "    cv.rectangle(img,top_left, bottom_right, 255, 2)\n",
    "    plt.subplot(121),plt.imshow(res,cmap = 'gray')\n",
    "    plt.title('Matching Result'), plt.xticks([]), plt.yticks([])\n",
    "    plt.subplot(122),plt.imshow(img,cmap = 'gray')\n",
    "    plt.title('Detected Point'), plt.xticks([]), plt.yticks([])\n",
    "    plt.suptitle(meth)\n",
    "    plt.show()"
   ]
  },
  {
   "cell_type": "raw",
   "metadata": {},
   "source": [
    "import cv2 as cv\n",
    "import numpy as np\n",
    "from matplotlib import pyplot as plt\n",
    "img_rgb = cv.imread('test.jpg')\n",
    "img_gray = cv.cvtColor(img_rgb, cv.COLOR_BGR2GRAY)\n",
    "template = cv.imread('template.jpg',0)\n",
    "w, h = template.shape[::-1]\n",
    "res = cv.matchTemplate(img_gray,template,cv.TM_CCOEFF_NORMED)\n",
    "threshold = 0.6\n",
    "loc = np.where( res >= threshold)\n",
    "for pt in zip(*loc[::-1]):\n",
    "    cv.rectangle(img_rgb, pt, (pt[0] + w, pt[1] + h), (0,0,255), 1)\n",
    "cv.imwrite('res-2.png',img_rgb)"
   ]
  },
  {
   "cell_type": "code",
   "execution_count": 71,
   "metadata": {},
   "outputs": [
    {
     "name": "stderr",
     "output_type": "stream",
     "text": [
      "  0%|                                                                                                                                                                                                                                | 0/8930 [00:00<?, ?it/s]"
     ]
    },
    {
     "name": "stdout",
     "output_type": "stream",
     "text": [
      "D:/FZ_WS/JyNB/TF_Research_Api_LD_2_0/research/object_detection/images/H_Dataset_08/H_Dataset_02_PinOnly/QFP+SOIC/train\\4609080-H-TOP-NEW-0626_22_0_1-u6___A0.jpg\n"
     ]
    },
    {
     "name": "stderr",
     "output_type": "stream",
     "text": [
      "\n"
     ]
    }
   ],
   "source": [
    "from glob import glob\n",
    "import cv2 as cv\n",
    "import numpy as np\n",
    "from matplotlib import pyplot as plt\n",
    "import seaborn as sns\n",
    "from tqdm import tqdm\n",
    "import pandas as pd\n",
    "\n",
    "# x=[]\n",
    "# y=[]\n",
    "# for fname in tqdm (glob(\"D:/FZ_WS/JyNB/TF_Research_Api_LD_2_0/research/object_detection/images/H_Dataset_08/H_Dataset_02_PinOnly/QFP+SOIC/train/*.jpg\")):\n",
    "#     img = cv.imread(fname)\n",
    "#     print(fname)\n",
    "#     #     txt_fname = fname.replace(\"D:/FZ_WS/JyNB/TF_Research_Api_LD_2_0/research/object_detection/images/H_Dataset_08/H_Dataset_02_PinOnly/QFP+SOIC/img\", \n",
    "#     #                               \"D:/FZ_WS/JyNB/TF_Research_Api_LD_2_0/research/object_detection/images/H_Dataset_08/H_Dataset_02_PinOnly/QFP+SOIC/txt\")\n",
    "#     txt_fname = txt_fname.replace(\".jpg\", \".txt\")\n",
    "    \n",
    "#     # DF reader\n",
    "#     txt_df=pd.read_csv(txt_fname, \n",
    "#                 names=['x1', 'y1', 'x2', 'y2', 'class'],  \n",
    "#                 dtype={'x1': np.int, 'y1': np.int, 'x2': np.int, 'y2': np.int, 'class':str} )\n",
    "    \n",
    "#     h, w, c = img.shape\n",
    "#     x.append(w) \n",
    "#     y.append(h)\n",
    "#     break\n",
    "    \n",
    "    \n",
    "# # sns.set_style(\"darkgrid\")\n",
    "# # sns.jointplot(x, y, kind=\"kde\")"
   ]
  },
  {
   "cell_type": "code",
   "execution_count": 2,
   "metadata": {},
   "outputs": [],
   "source": [
    "from glob import glob\n",
    "import cv2 as cv\n",
    "import numpy as np\n",
    "from matplotlib import pyplot as plt\n",
    "import seaborn as sns\n",
    "from tqdm import tqdm\n",
    "import pandas as pd\n",
    "import os\n",
    "\n",
    "#### Helper Function\n",
    "def createDirectory(path):\n",
    "    if not os.path.isdir(path):\n",
    "        os.makedirs(path)\n",
    "        print (\"Creating {}\".format(path))\n",
    "    return path\n"
   ]
  },
  {
   "cell_type": "code",
   "execution_count": 3,
   "metadata": {},
   "outputs": [],
   "source": [
    "\n",
    "def generate_multiline_images_from_singleline():\n",
    "    \n",
    "    #Variable\n",
    "    src_img_dir = \"D:/FZ_WS/JyNB/TF_Research_Api_LD_2_0/research/object_detection/images/H_Dataset_08/H_Dataset_02_PinOnly/QFP+SOIC-Multiline/raw/*.jpg\"\n",
    "    out_dir = createDirectory(\"D:/FZ_WS/JyNB/TF_Research_Api_LD_2_0/research/object_detection/images/H_Dataset_08/H_Dataset_02_PinOnly/QFP+SOIC-Multiline/multiline\")\n",
    "    fixed_width = 412\n",
    "    overlap_limit = 100\n",
    "\n",
    "    #Member function\n",
    "    def generate_multiline(\n",
    "        img,\n",
    "        fixed_width = 412,\n",
    "        overlap_limit = 100,\n",
    "        out_txt_file='test.txt',\n",
    "        out_img_file='test.jpg'\n",
    "    ):\n",
    "        #Image size\n",
    "        W = img.shape[1]\n",
    "        H = img.shape[0]\n",
    "        if (W <= fixed_width):\n",
    "            row_count = 1\n",
    "        else:\n",
    "            row_count = W // fixed_width +1\n",
    "            if (W%fixed_width < overlap_limit):\n",
    "                row_count =row_count-1\n",
    "        #print(\"row_count: \",row_count)    \n",
    "\n",
    "        #Image generate\n",
    "        blank_image = np.zeros(shape=[H * row_count, fixed_width+overlap_limit, 3], dtype=np.uint8)\n",
    "        new_label = []\n",
    "        color = (0, 0, 255)\n",
    "\n",
    "        # Do Multiline\n",
    "        for i in range(row_count):\n",
    "            start = i * fixed_width\n",
    "            stop  = start + fixed_width + overlap_limit\n",
    "            stop = W if  (stop > W) else stop\n",
    "            #print(\"start: \", start, \"stop: \", stop)\n",
    "\n",
    "            temp = img.copy()\n",
    "            for j, r in txt_df.iterrows():\n",
    "                if (int(r['x2'])< stop and int(r['x1'])< stop and int(r['x1'])> start and int(r['x2'])> start ):\n",
    "                    new_r = r.to_dict()\n",
    "\n",
    "                    new_r['x1'] = new_r['x1'] - i*fixed_width\n",
    "                    new_r['x2'] = new_r['x2'] - i*fixed_width\n",
    "\n",
    "                    new_r['y1'] = new_r['y1'] + i*H\n",
    "                    new_r['y2'] = new_r['y2'] + i*H\n",
    "                    new_label.append(new_r)\n",
    "                    #cv.rectangle(img, (r['x1'],r['y1']), (r['x2'],r['y2']), color, 1)\n",
    "            blank_image[i*H:(i+1)*H, :stop-start] = temp[:, start:stop]\n",
    "            \n",
    "        #Pad\n",
    "        top = int( (fixed_width + overlap_limit - blank_image.shape[0]) /2) \n",
    "        top = top if top >0 else 0\n",
    "        bottom = top\n",
    "        left = 0\n",
    "        right = left\n",
    "        #print(name, blank_image.shape)\n",
    "        blank_image = cv.copyMakeBorder(blank_image, top, bottom, left, right, borderType=cv.BORDER_CONSTANT, value=[0,0,0])\n",
    "\n",
    "\n",
    "        # Output\n",
    "        with open(out_txt_file,\"w\") as f:\n",
    "            for r in new_label:\n",
    "                r['y1'] = r['y1'] + top\n",
    "                r['y2'] = r['y2'] + top\n",
    "                f.write(\"{},{},{},{},{}\\n\".format(r['x1'],r['y1'], r['x2'],r['y2'], r['class']))\n",
    "                #cv.rectangle(blank_image, (r['x1'],r['y1']), (r['x2'],r['y2']), color, 1)\n",
    "            #cv.imshow(\"Images\", blank_image)\n",
    "            #cv.waitKey(0)\n",
    "            cv.imwrite(out_img_file, blank_image)\n",
    "\n",
    "    '''\n",
    "    MAIN\n",
    "    '''\n",
    "    for fname in tqdm (glob(src_img_dir)):\n",
    "        #Image\n",
    "        img = cv.imread(fname)\n",
    "        name = os.path.basename(fname)\n",
    "\n",
    "        # DF reader\n",
    "        txt_fname = fname.replace(\".jpg\", \".txt\")    \n",
    "        txt_df=pd.read_csv(txt_fname, \n",
    "                    names=['x1', 'y1', 'x2', 'y2', 'class'],  \n",
    "                    dtype={'x1': np.int, 'y1': np.int, 'x2': np.int, 'y2': np.int, 'class':str} )\n",
    "\n",
    "        #Settings\n",
    "        out_txt_file= os.path.join(out_dir, name.replace(\".jpg\", \".txt\"))\n",
    "        out_img_file= os.path.join(out_dir, name)\n",
    "\n",
    "        generate_multiline(    \n",
    "            img,\n",
    "            fixed_width,\n",
    "            overlap_limit,\n",
    "            out_txt_file,\n",
    "            out_img_file) \n",
    "    \n"
   ]
  },
  {
   "cell_type": "code",
   "execution_count": 4,
   "metadata": {},
   "outputs": [
    {
     "name": "stderr",
     "output_type": "stream",
     "text": [
      "  0%|                                                                                                                                                                                                                                | 0/9112 [00:00<?, ?it/s]"
     ]
    },
    {
     "name": "stdout",
     "output_type": "stream",
     "text": [
      "Creating D:/FZ_WS/JyNB/TF_Research_Api_LD_2_0/research/object_detection/images/H_Dataset_08/H_Dataset_02_PinOnly/QFP+SOIC-Multiline/multiline\n"
     ]
    },
    {
     "name": "stderr",
     "output_type": "stream",
     "text": [
      "100%|█████████████████████████████████████████████████████████████████████████████████████████████████████████████████████████████████████████████████████████████████████████████████████████████████████████████████████| 9112/9112 [02:32<00:00, 59.87it/s]\n"
     ]
    }
   ],
   "source": [
    "if 1:\n",
    "    generate_multiline_images_from_singleline()\n"
   ]
  },
  {
   "cell_type": "code",
   "execution_count": null,
   "metadata": {},
   "outputs": [],
   "source": []
  }
 ],
 "metadata": {
  "kernelspec": {
   "display_name": "Python 3",
   "language": "python",
   "name": "python3"
  },
  "language_info": {
   "codemirror_mode": {
    "name": "ipython",
    "version": 3
   },
   "file_extension": ".py",
   "mimetype": "text/x-python",
   "name": "python",
   "nbconvert_exporter": "python",
   "pygments_lexer": "ipython3",
   "version": "3.6.10"
  }
 },
 "nbformat": 4,
 "nbformat_minor": 4
}
