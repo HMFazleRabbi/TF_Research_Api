{
 "cells": [
  {
   "cell_type": "markdown",
   "metadata": {},
   "source": [
    "## Pin Location Benchmarker"
   ]
  },
  {
   "cell_type": "code",
   "execution_count": 1,
   "metadata": {},
   "outputs": [],
   "source": [
    "import numpy as np\n",
    "import pandas as pd\n",
    "import os, shutil\n",
    "import glob\n",
    "from scipy import stats\n",
    "import cv2\n",
    "pd.plotting.register_matplotlib_converters()\n",
    "import matplotlib.pyplot as plt\n",
    "%matplotlib inline\n",
    "import seaborn as sns\n",
    "from tqdm import tqdm\n",
    "import datetime\n",
    "\n",
    "from IPython.display import Image\n",
    "from IPython.display import display\n",
    "from statistics import mode"
   ]
  },
  {
   "cell_type": "markdown",
   "metadata": {},
   "source": [
    "## Helper Function"
   ]
  },
  {
   "cell_type": "code",
   "execution_count": 2,
   "metadata": {},
   "outputs": [],
   "source": [
    "# Global variable\n",
    "total_pin_detected=0\n",
    "\n",
    "def barplot_distribution(input_df, col='filename', fig_dw=32, fig_dh=8, title=\"distribution\", table=True, dtype='str'):\n",
    "    title=\"{} {}\".format(col, title)\n",
    "    if (table):\n",
    "        print(title,\"------------------\")\n",
    "        print(input_df.groupby(col)[col].count())\n",
    "    plt.figure(figsize=(fig_dw, fig_dh))\n",
    "    plt.title(title)\n",
    "    if dtype=='str': x_values = [(x.replace(\",\", \"\\n\\n\")).replace(\" \", \"\\n\") for x in input_df.groupby(col)[col].count().index]\n",
    "    else:x_values = [x for x in input_df.groupby(col)[col].count().index]\n",
    "    sns.barplot(x=x_values, y=input_df.groupby(col)[col].count().values)\n",
    "    \n",
    "    \n",
    "def draw_box(df, img_path, save_path=None):\n",
    "    img = cv2.imread(img_path)\n",
    "    for i, row in df.iterrows():\n",
    "        cv2.rectangle(img, (int(row['x1']), int(row['y1'])), ( int(row['x2']), int(row['y2'])), (255,0,0), 2)\n",
    "    if save_path:\n",
    "        save_path=os.path.join(save_path, os.path.basename(img_path))\n",
    "        cv2.imwrite(save_path, img)\n",
    "    \n",
    "# Function Definition\n",
    "def set_total_pin_detected(val):\n",
    "    total_pin_detected=val\n",
    "    \n",
    "def bb_intersection_ratio(boxA, boxB):\n",
    "    xA = max(float(boxA[\"x1\"]), float( boxB[\"x1\"]))\n",
    "    yA = max(float(boxA[\"y1\"]), float(boxB[\"y1\"]))\n",
    "    xB = min(float(boxA[\"x2\"]), float(boxB[\"x2\"]))\n",
    "    yB = min(float(boxA[\"y2\"]), float(boxB[\"y2\"]))\n",
    "    interArea = max(0, xB - xA + 1) * max(0, yB - yA + 1)\n",
    "    boxAArea = (float(boxA[\"x2\"]) - float(boxA[\"x1\"]) + 1) * (float(boxA[\"y2\"]) - float(boxA[\"y1\"]) + 1)\n",
    "    percentage_area = interArea / float(boxAArea ) *100\n",
    "    return percentage_area\n",
    "\n",
    "def iou(boxA, boxB):\n",
    "    xA = max(float(boxA[\"x1\"]), float( boxB[\"x1\"]))\n",
    "    yA = max(float(boxA[\"y1\"]), float(boxB[\"y1\"]))\n",
    "    xB = min(float(boxA[\"x2\"]), float(boxB[\"x2\"]))\n",
    "    yB = min(float(boxA[\"y2\"]), float(boxB[\"y2\"]))\n",
    "    interArea = max(0, xB - xA + 1) * max(0, yB - yA + 1)\n",
    "    boxAArea = (float(boxA[\"x2\"]) - float(boxA[\"x1\"]) + 1) * (float(boxA[\"y2\"]) - float(boxA[\"y1\"]) + 1)\n",
    "    boxBArea = (float(boxB[\"x2\"]) - float(boxB[\"x1\"]) + 1) * (float(boxB[\"y2\"]) - float(boxB[\"y1\"]) + 1)\n",
    "    percentage_area = interArea / float(boxAArea +  boxBArea - interArea) *100\n",
    "    return percentage_area\n",
    "\n",
    "    \n",
    "def best_fit_slope_and_intercept(xs,ys):\n",
    "    m = (((np.mean(xs)*np.mean(ys)) - np.mean(xs*ys)) /\n",
    "         ((np.mean(xs)*np.mean(xs)) - np.mean(xs*xs)))\n",
    "    b = np.mean(ys) - m*np.mean(xs)\n",
    "    return m, b\n",
    "\n",
    "def dimension_outfilter(df, col):\n",
    "    values = np.abs(np.array(df[col])/np.median(df[col]))\n",
    "    return df[(values > .75) & (values < 1.25)]\n",
    "\n",
    "def get_df(txt_file):\n",
    "    return pd.read_csv(txt_file, names=['x1', 'y1', 'x2', 'y2', 'class', 'score'],  dtype={'x1': np.int, 'y1': np.int, 'x2': np.int, 'y2': np.int, 'class':str, 'score':float} )\n",
    "\n",
    "def get_txt_df(txt_file):\n",
    "    return pd.read_csv(txt_file, names=['x1', 'y1', 'x2', 'y2', 'class'],  dtype={'x1': np.int, 'y1': np.int, 'x2': np.int, 'y2': np.int, 'class':str} )\n"
   ]
  },
  {
   "cell_type": "markdown",
   "metadata": {},
   "source": [
    "--------------------------------------------------------------------\n",
    "## Filtering"
   ]
  },
  {
   "cell_type": "code",
   "execution_count": 3,
   "metadata": {},
   "outputs": [],
   "source": [
    "def filter_prediction_labels(src_dir, img_dir, out_csv_dir, out_img_dir):\n",
    "    src_files = glob.glob(os.path.join(src_dir, \"*.txt\"))\n",
    "    lines_deleted = []\n",
    "    for src_file in src_files:\n",
    "        name = os.path.basename(src_file)\n",
    "        selected_df = get_df(src_file)\n",
    "        initial_len = len(selected_df)\n",
    "        selected_df['width'] = selected_df['x2']-selected_df['x1']\n",
    "        selected_df['height'] = selected_df['y2']-selected_df['y1']\n",
    "        selected_df=dimension_outfilter(selected_df, \"width\")\n",
    "        selected_df=dimension_outfilter(selected_df, \"height\")\n",
    "        selected_df = selected_df.drop(['width', 'height'], axis=1)\n",
    "        final_len = len(selected_df)\n",
    "        lines_deleted.append(initial_len-final_len)\n",
    "        if initial_len!=final_len: \n",
    "            print(\"{} deleted lines in {}\".format(lines_deleted[-1], src_file))\n",
    "            draw_box(selected_df, os.path.join(img_dir, name.replace(\".txt\",\".jpg\")), os.path.join(out_img_dir, \"deleted_lines\"))\n",
    "        draw_box(selected_df, os.path.join(img_dir, name.replace(\".txt\",\".jpg\")), out_img_dir)\n",
    "        csv_path = os.path.join(out_csv_dir, name)\n",
    "        selected_df.to_csv(csv_path, index=None, header=None)\n",
    "    lines_deleted_df=pd.DataFrame({\"lines_deleted\": lines_deleted})\n",
    "    barplot_distribution(lines_deleted_df, col='lines_deleted', fig_dw=32, fig_dh=8, title=\"distribution\", table=True, dtype='int')\n",
    "\n",
    "# Path\n",
    "src_dir ='D:/FZ_WS/JyNB/TF_Research_Api_LD_2_0/research/object_detection/scripts/PinOnly-Detector-TestResult/txt-raw-prediction'\n",
    "img_dir='D:/FZ_WS/JyNB/TF_Research_Api_LD_2_0/research/object_detection/scripts/PinOnly-Detector-TestResult/img'\n",
    "out_csv_dir=\"D:/FZ_WS/JyNB/TF_Research_Api_LD_2_0/research/object_detection/scripts/PinOnly-Detector-TestResult/txt-filtered-prediction\"\n",
    "out_img_dir='D:/FZ_WS/JyNB/TF_Research_Api_LD_2_0/research/object_detection/scripts/PinOnly-Detector-TestResult/img-filtered-prediction'\n",
    "\n",
    "# Trigger\n",
    "# filter_prediction_labels(src_dir, img_dir, out_csv_dir, out_img_dir)"
   ]
  },
  {
   "cell_type": "markdown",
   "metadata": {},
   "source": [
    "--------------------------------------------------------------------------\n",
    "## Benchmarking the Pin using IOU"
   ]
  },
  {
   "cell_type": "code",
   "execution_count": 4,
   "metadata": {},
   "outputs": [],
   "source": [
    "def compare_gt_and_prediction(prediction_txt_dir, groundtruth_txt_dir, src_img_dir, dst_img_dir):\n",
    "    src_files = glob.glob(os.path.join(prediction_txt_dir, \"*.txt\"))\n",
    "    all_matches=[]\n",
    "    all_mismatches=[]\n",
    "    all_pins=[]\n",
    "    for src_file in tqdm(src_files):\n",
    "        name = os.path.basename(src_file)\n",
    "        gt_selected_df = get_txt_df(os.path.join(groundtruth_txt_dir, name))\n",
    "        pred_selected_df = get_df(os.path.join(prediction_txt_dir, name))\n",
    "        #print(len(gt_selected_df))\n",
    "        #print(len(pred_selected_df))\n",
    "        match=0\n",
    "        for i, gt_row in gt_selected_df.iterrows():\n",
    "            for i, pred_row in pred_selected_df.iterrows():\n",
    "                if (gt_row['class'].upper()==pred_row['class'].upper()):\n",
    "                    iou_value = iou(gt_row, pred_row)\n",
    "                    if (iou_value): \n",
    "                        match=match+1\n",
    "\n",
    "        unmatch = len(gt_selected_df) -match\n",
    "        all_matches.append(match)\n",
    "        all_mismatches.append(unmatch)\n",
    "        all_pins.append(len(gt_selected_df))\n",
    "        if ( unmatch != 0):\n",
    "            shutil.copy(os.path.join(src_img_dir,  name.replace('.txt', '.jpg')), dst_img_dir)\n",
    "\n",
    "    info={\n",
    "        \"fpath\": src_files,\n",
    "        \"detected\": all_matches,\n",
    "        \"undetected\": all_mismatches,\n",
    "        \"total\": all_pins\n",
    "        }\n",
    "\n",
    "    df = pd.DataFrame(info)\n",
    "    barplot_distribution(df, col='undetected', fig_dw=32, fig_dh=8, title=\"distribution\", table=True, dtype='int')\n",
    "    barplot_distribution(df, col='detected', fig_dw=32, fig_dh=8, title=\"distribution\", table=True, dtype='int')\n",
    "    barplot_distribution(df, col='total', fig_dw=32, fig_dh=8, title=\"distribution\", table=True, dtype='int')\n",
    "    return (df)\n",
    "\n",
    "    \n",
    "# Path\n",
    "# prediction_txt_dir ='D:/FZ_WS/JyNB/TF_Research_Api_LD_2_0/research/object_detection/debug/images_out-V-13-gekochtes-25k/train/txt'\n",
    "# groundtruth_txt_dir ='D:/FZ_WS/JyNB/TF_Research_Api_LD_2_0/research/object_detection/images/H_Dataset_03/Mixed/train_labels_lt_800_txt'\n",
    "# src_img_dir='D:/FZ_WS/JyNB/TF_Research_Api_LD_2_0/research/object_detection/debug/images_out-V-13-gekochtes-25k/train/img'    \n",
    "# dst_img_dir='D:/FZ_WS/JyNB/TF_Research_Api_LD_2_0/research/object_detection/debug/images_out-V-13-gekochtes-25k/train/temp'    \n",
    "# compare_gt_and_prediction(prediction_txt_dir, groundtruth_txt_dir, src_img_dir, dst_img_dir)    "
   ]
  },
  {
   "cell_type": "markdown",
   "metadata": {},
   "source": [
    "### Train Dataset Evaluation"
   ]
  },
  {
   "cell_type": "code",
   "execution_count": 5,
   "metadata": {},
   "outputs": [
    {
     "name": "stderr",
     "output_type": "stream",
     "text": [
      "100%|██████████████████████████████████████████████████████████████████████████████████████████████████████████████████████████████████████████████████████████████████████████████████████████████████████████████| 7861/7861 [04:30<00:00, 29.10it/s]\n"
     ]
    },
    {
     "name": "stdout",
     "output_type": "stream",
     "text": [
      "undetected distribution ------------------\n",
      "undetected\n",
      "-3        1\n",
      "-2        3\n",
      "-1        6\n",
      " 0     7413\n",
      " 1      160\n",
      " 2      188\n",
      " 3        7\n",
      " 4        5\n",
      " 6        3\n",
      " 8        3\n",
      " 9        3\n",
      " 10       3\n",
      " 11       2\n",
      " 13       1\n",
      " 14       3\n",
      " 15       8\n",
      " 16      11\n",
      " 17       2\n",
      " 18       4\n",
      " 19       2\n",
      " 20       4\n",
      " 21       1\n",
      " 22       1\n",
      " 23       2\n",
      " 24       2\n",
      " 25       1\n",
      " 26       1\n",
      " 27       4\n",
      " 28      12\n",
      " 29       1\n",
      " 33       2\n",
      " 34       1\n",
      " 35       1\n",
      "Name: undetected, dtype: int64\n",
      "detected distribution ------------------\n",
      "detected\n",
      "1      589\n",
      "2       43\n",
      "3      321\n",
      "4     2510\n",
      "5      386\n",
      "6      565\n",
      "7      731\n",
      "8       26\n",
      "9     1630\n",
      "10      14\n",
      "11     135\n",
      "13       4\n",
      "14      14\n",
      "15     315\n",
      "16       3\n",
      "17     251\n",
      "18       9\n",
      "19       1\n",
      "20      17\n",
      "21     206\n",
      "24       1\n",
      "25      17\n",
      "29      18\n",
      "30       3\n",
      "31       2\n",
      "32       6\n",
      "33      25\n",
      "34       1\n",
      "35       4\n",
      "36       3\n",
      "38       1\n",
      "40       1\n",
      "41       1\n",
      "42       2\n",
      "44       1\n",
      "45       2\n",
      "47       3\n",
      "Name: detected, dtype: int64\n",
      "total distribution ------------------\n",
      "total\n",
      "1      384\n",
      "3      520\n",
      "4     2465\n",
      "5      439\n",
      "6      565\n",
      "7      741\n",
      "8       16\n",
      "9     1633\n",
      "10      16\n",
      "11     133\n",
      "15     329\n",
      "17     274\n",
      "18       8\n",
      "21     223\n",
      "25      16\n",
      "29      39\n",
      "33      24\n",
      "39       8\n",
      "49      12\n",
      "65      16\n",
      "Name: total, dtype: int64\n"
     ]
    },
    {
     "data": {
      "image/png": "[encoded data removed]",
      "text/plain": [
       "<Figure size 2304x576 with 1 Axes>"
      ]
     },
     "metadata": {
      "needs_background": "light"
     },
     "output_type": "display_data"
    },
    {
     "data": {
      "image/png": "[encoded data removed]",
      "text/plain": [
       "<Figure size 2304x576 with 1 Axes>"
      ]
     },
     "metadata": {
      "needs_background": "light"
     },
     "output_type": "display_data"
    },
    {
     "data": {
      "image/png": "[encoded data removed]",
      "text/plain": [
       "<Figure size 2304x576 with 1 Axes>"
      ]
     },
     "metadata": {
      "needs_background": "light"
     },
     "output_type": "display_data"
    }
   ],
   "source": [
    "# Path\n",
    "prediction_txt_dir ='D:/FZ_WS/JyNB/TF_Research_Api_LD_2_0/research/object_detection/debug/images_out-V-13-gekochtes-25k/train/txt'\n",
    "groundtruth_txt_dir ='D:/FZ_WS/JyNB/TF_Research_Api_LD_2_0/research/object_detection/images/H_Dataset_03/Mixed/train_labels_lt_800_txt'\n",
    "src_img_dir='D:/FZ_WS/JyNB/TF_Research_Api_LD_2_0/research/object_detection/debug/images_out-V-13-gekochtes-25k/train/img'    \n",
    "dst_img_dir='D:/FZ_WS/JyNB/TF_Research_Api_LD_2_0/research/object_detection/debug/images_out-V-13-gekochtes-25k/train/temp'    \n",
    "\n",
    "pin_statistics = compare_gt_and_prediction(prediction_txt_dir, groundtruth_txt_dir, src_img_dir, dst_img_dir)   \n",
    "pin_statistics.to_csv(\"Train_PredictionPin_Statistics.csv\", index=False)"
   ]
  },
  {
   "cell_type": "markdown",
   "metadata": {},
   "source": [
    "### Test Dataset Evaluation"
   ]
  },
  {
   "cell_type": "code",
   "execution_count": 6,
   "metadata": {},
   "outputs": [
    {
     "name": "stderr",
     "output_type": "stream",
     "text": [
      "100%|████████████████████████████████████████████████████████████████████████████████████████████████████████████████████████████████████████████████████████████████████████████████████████████████████████████████| 445/445 [00:17<00:00, 24.79it/s]\n"
     ]
    },
    {
     "name": "stdout",
     "output_type": "stream",
     "text": [
      "undetected distribution ------------------\n",
      "undetected\n",
      "-1       2\n",
      " 0     425\n",
      " 1      12\n",
      " 2       3\n",
      " 16      1\n",
      " 18      1\n",
      " 23      1\n",
      "Name: undetected, dtype: int64\n",
      "detected distribution ------------------\n",
      "detected\n",
      "1      35\n",
      "2      10\n",
      "3      25\n",
      "4     175\n",
      "5      13\n",
      "6      29\n",
      "7      33\n",
      "9      73\n",
      "11      7\n",
      "13      1\n",
      "15     17\n",
      "17     15\n",
      "20      2\n",
      "21      6\n",
      "33      2\n",
      "42      1\n",
      "47      1\n",
      "Name: detected, dtype: int64\n",
      "total distribution ------------------\n",
      "total\n",
      "1      32\n",
      "3      40\n",
      "4     173\n",
      "5      13\n",
      "6      29\n",
      "7      33\n",
      "9      73\n",
      "11      7\n",
      "15     17\n",
      "17     15\n",
      "21      8\n",
      "29      1\n",
      "33      2\n",
      "65      2\n",
      "Name: total, dtype: int64\n"
     ]
    },
    {
     "data": {
      "image/png": "[encoded data removed]",
      "text/plain": [
       "<Figure size 2304x576 with 1 Axes>"
      ]
     },
     "metadata": {
      "needs_background": "light"
     },
     "output_type": "display_data"
    },
    {
     "data": {
      "image/png": "[encoded data removed]",
      "text/plain": [
       "<Figure size 2304x576 with 1 Axes>"
      ]
     },
     "metadata": {
      "needs_background": "light"
     },
     "output_type": "display_data"
    },
    {
     "data": {
      "image/png": "[encoded data removed]",
      "text/plain": [
       "<Figure size 2304x576 with 1 Axes>"
      ]
     },
     "metadata": {
      "needs_background": "light"
     },
     "output_type": "display_data"
    }
   ],
   "source": [
    "# Path\n",
    "prediction_txt_dir ='D:/FZ_WS/JyNB/TF_Research_Api_LD_2_0/research/object_detection/debug/images_out-V-13-gekochtes-25k/test/txt'\n",
    "groundtruth_txt_dir ='D:/FZ_WS/JyNB/TF_Research_Api_LD_2_0/research/object_detection/images/H_Dataset_03/Mixed/test_labels_lt_800_txt'\n",
    "src_img_dir='D:/FZ_WS/JyNB/TF_Research_Api_LD_2_0/research/object_detection/debug/images_out-V-13-gekochtes-25k/test/img'    \n",
    "dst_img_dir='D:/FZ_WS/JyNB/TF_Research_Api_LD_2_0/research/object_detection/debug/images_out-V-13-gekochtes-25k/test/temp'    \n",
    "\n",
    "pin_statistics = compare_gt_and_prediction(prediction_txt_dir, groundtruth_txt_dir, src_img_dir, dst_img_dir)   \n",
    "pin_statistics.to_csv(\"Test_PredictionPin_Statistics.csv\", index=False)"
   ]
  },
  {
   "cell_type": "code",
   "execution_count": null,
   "metadata": {},
   "outputs": [],
   "source": []
  }
 ],
 "metadata": {
  "kernelspec": {
   "display_name": "Python 3",
   "language": "python",
   "name": "python3"
  },
  "language_info": {
   "codemirror_mode": {
    "name": "ipython",
    "version": 3
   },
   "file_extension": ".py",
   "mimetype": "text/x-python",
   "name": "python",
   "nbconvert_exporter": "python",
   "pygments_lexer": "ipython3",
   "version": "3.6.10"
  }
 },
 "nbformat": 4,
 "nbformat_minor": 4
}
