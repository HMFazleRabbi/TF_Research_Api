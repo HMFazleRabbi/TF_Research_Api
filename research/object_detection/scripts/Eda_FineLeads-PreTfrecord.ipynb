{
 "cells": [
  {
   "cell_type": "markdown",
   "metadata": {},
   "source": [
    "## Database analysis\n",
    "- Analyse the file that generates the tf record.\n",
    "- Can also suggest improvement\n",
    "- The idea is if one of the checks fail then go fix it and then rerun this from start. Continue till you reach end of this script without error"
   ]
  },
  {
   "cell_type": "code",
   "execution_count": 1,
   "metadata": {},
   "outputs": [
    {
     "name": "stdout",
     "output_type": "stream",
     "text": [
      "Setup Complete\n"
     ]
    }
   ],
   "source": [
    "import pandas as pd\n",
    "import os, glob, shutil\n",
    "pd.plotting.register_matplotlib_converters()\n",
    "import matplotlib.pyplot as plt\n",
    "%matplotlib inline\n",
    "import seaborn as sns\n",
    "\n",
    "from IPython.display import display\n",
    "from IPython.display import Image\n",
    "print(\"Setup Complete\")"
   ]
  },
  {
   "cell_type": "markdown",
   "metadata": {},
   "source": [
    "#### Helper Function"
   ]
  },
  {
   "cell_type": "code",
   "execution_count": 20,
   "metadata": {},
   "outputs": [],
   "source": [
    "def barplot_pin_distribution(input_df, title=\"Pin count distribution\"):\n",
    "    _temp = input_df.groupby('filename').filename.count() \n",
    "    if len(_temp)>0:\n",
    "        df = _temp[_temp<11111111]\n",
    "        plt.figure(figsize=(16,6))\n",
    "        plt.title(title)\n",
    "        sns.barplot(x=df.value_counts().index, y=df.value_counts().values)\n",
    "    else:\n",
    "        print(\"[MSG]: DF set in empty.\")\n"
   ]
  },
  {
   "cell_type": "markdown",
   "metadata": {},
   "source": [
    "### Load"
   ]
  },
  {
   "cell_type": "code",
   "execution_count": 3,
   "metadata": {},
   "outputs": [
    {
     "name": "stdout",
     "output_type": "stream",
     "text": [
      "                                   filename width height class xmin ymin xmax  \\\n",
      "0  AGIH-VR-G2571-61103-panelized_1cr5_0.jpg   194    185  BODY   76   21  133   \n",
      "1  AGIH-VR-G2571-61103-panelized_1cr5_0.jpg   194    185   PIN  135   34  168   \n",
      "2  AGIH-VR-G2571-61103-panelized_1cr5_0.jpg   194    185   PIN  136  129  169   \n",
      "3  AGIH-VR-G2571-61103-panelized_1cr5_0.jpg   194    185   PIN   42   82   78   \n",
      "4  AGIH-VR-G2571-61103-panelized_1cr5_1.jpg   194    185  BODY   76   21  133   \n",
      "\n",
      "  ymax  \n",
      "0  162  \n",
      "1   53  \n",
      "2  148  \n",
      "3  101  \n",
      "4  162  \n",
      "Total df_train lines: 4936\n",
      "Total df_test lines: 0\n",
      "Total: 4936\n"
     ]
    }
   ],
   "source": [
    "# FPath\n",
    "# df_train = pd.read_csv('D:/FZ_WS/JyNB/TF_Research_Api_LD_2_0/research/object_detection/images/H_Dataset_00/train_labels.csv')\n",
    "# df_test  = pd.read_csv('D:/FZ_WS/JyNB/TF_Research_Api_LD_2_0/research/object_detection/images/H_Dataset_00/test_labels.csv')\n",
    "# df_train = pd.read_csv('D:/FZ_WS/JyNB/TF_Research_Api_LD_2_0/research/object_detection/images/train_labels.csv')\n",
    "# df_test  = pd.read_csv('D:/FZ_WS/JyNB/TF_Research_Api_LD_2_0/research/object_detection/images/test_labels.csv')\n",
    "\n",
    "df_train = pd.read_csv('D:/FZ_WS/JyNB/TF_Research_Api_LD_2_0/research/object_detection/images/H_Dataset_00/AGIH-VR-G2571-61103-panelized/train_labels.csv')\n",
    "df_test  = pd.read_csv('D:/FZ_WS/JyNB/TF_Research_Api_LD_2_0/research/object_detection/images/H_Dataset_00/AGIH-VR-G2571-61103-panelized/test_labels.csv')\n",
    "\n",
    "# Join\n",
    "df_all = pd.concat([df_train, df_test])\n",
    "print(df_all.head())\n",
    "print(\"Total df_train lines:\",len(df_train))\n",
    "print(\"Total df_test lines:\",len(df_test))\n",
    "print(\"Total:\",len(df_all))"
   ]
  },
  {
   "cell_type": "markdown",
   "metadata": {},
   "source": [
    "### Dimension control\n",
    "- Validate all the dim"
   ]
  },
  {
   "cell_type": "code",
   "execution_count": 4,
   "metadata": {},
   "outputs": [
    {
     "data": {
      "text/plain": [
       "<seaborn.axisgrid.JointGrid at 0x2a12ea2ac50>"
      ]
     },
     "execution_count": 4,
     "metadata": {},
     "output_type": "execute_result"
    },
    {
     "data": {
      "image/png": "[encoded data removed]",
      "text/plain": [
       "<Figure size 432x432 with 3 Axes>"
      ]
     },
     "metadata": {},
     "output_type": "display_data"
    }
   ],
   "source": [
    "sns.set_style(\"darkgrid\")\n",
    "sns.jointplot(x=df_train['width'], y=df_train['height'], kind=\"kde\")"
   ]
  },
  {
   "cell_type": "code",
   "execution_count": 5,
   "metadata": {},
   "outputs": [
    {
     "name": "stdout",
     "output_type": "stream",
     "text": [
      "Train Dimension analysis complete!\n",
      "Test Dimension analysis complete!\n"
     ]
    }
   ],
   "source": [
    "# Train\n",
    "_temp = df_train[df_train['xmax']<df_train['xmin']]\n",
    "if (len(_temp)): print(_temp)\n",
    "    \n",
    "_temp = df_train[df_train['ymax']<df_train['ymin']]\n",
    "if (len(_temp)): print(_temp)\n",
    "    \n",
    "_temp = df_train[df_train['height']<df_train['ymin']]\n",
    "if (len(_temp)): print(_temp)\n",
    "    \n",
    "_temp = df_train[df_train['height']<df_train['ymax']]\n",
    "if (len(_temp)): print(_temp)\n",
    "\n",
    "_temp = df_train[df_train['width']<df_train['xmin']]\n",
    "if (len(_temp)): print(_temp)\n",
    "    \n",
    "_temp = df_train[df_train['width']<df_train['xmax']]\n",
    "if (len(_temp)): print(_temp)\n",
    "\n",
    "if (len(df_train[df_train['width']< 1]) or len(df_train[df_train['height']<1])): print(\"Negative dimension\")\n",
    "if (len(df_train[df_train['xmin']<  1]) or len(df_train[df_train['xmax']<1])): print(\"Negative dimension x\")\n",
    "if (len(df_train[df_train['ymin']<  1]) or len(df_train[df_train['ymax']<1])): print(\"Negative dimension y\")\n",
    "print('Train Dimension analysis complete!')\n",
    "\n",
    "\n",
    "# Test\n",
    "_temp = df_test[df_test['xmax']<df_test['xmin']]\n",
    "if (len(_temp)): print(_temp)\n",
    "    \n",
    "_temp = df_test[df_test['ymax']<df_test['ymin']]\n",
    "if (len(_temp)): print(_temp)\n",
    "    \n",
    "_temp = df_test[df_test['height']<df_test['ymin']]\n",
    "if (len(_temp)): print(_temp)\n",
    "    \n",
    "_temp = df_test[df_test['height']<df_test['ymax']]\n",
    "if (len(_temp)): print(_temp)\n",
    "\n",
    "_temp = df_test[df_test['width']<df_test['xmin']]\n",
    "if (len(_temp)): print(_temp)\n",
    "    \n",
    "_temp = df_test[df_test['width']<df_test['xmax']]\n",
    "if (len(_temp)): print(_temp)\n",
    "    \n",
    "    \n",
    "if (len(df_test[df_test['width']< 1]) or len(df_test[df_test['height']<1])): print(\"Negative dimension\")\n",
    "if (len(df_test[df_test['xmin']<  1]) or len(df_test[df_test['xmax']<1])): print(\"Negative dimension x\")\n",
    "if (len(df_test[df_test['ymin']<  1]) or len(df_test[df_test['ymax']<1])): print(\"Negative dimension y\")\n",
    "print('Test Dimension analysis complete!')"
   ]
  },
  {
   "cell_type": "markdown",
   "metadata": {},
   "source": [
    "### Uppercase\n",
    "- Change all the classes to uppercase"
   ]
  },
  {
   "cell_type": "code",
   "execution_count": 6,
   "metadata": {},
   "outputs": [],
   "source": [
    "def toUpperCase(x):\n",
    "    x.upper()"
   ]
  },
  {
   "cell_type": "code",
   "execution_count": 7,
   "metadata": {},
   "outputs": [
    {
     "name": "stdout",
     "output_type": "stream",
     "text": [
      "Test Label != PIN or BODY: \n",
      "Series([], Name: class, dtype: int64)\n",
      "\n",
      "Train Label != PIN or BODY: \n",
      "False    1136\n",
      "Name: class, dtype: int64\n"
     ]
    }
   ],
   "source": [
    "\n",
    "print(\"Test Label != PIN or BODY: \")\n",
    "print((df_test[df_test['class'] !='BODY']['class']!='PIN').value_counts() )\n",
    "print(\"\")\n",
    "print(\"Train Label != PIN or BODY: \")\n",
    "print((df_train[df_train['class'] !='PIN']['class']!='BODY').value_counts() )\n",
    "\n",
    "# Save\n",
    "if (False):\n",
    "    df_test['class'].apply(toUpperCase)\n",
    "    df_train['class'].apply(toUpperCase)\n",
    "    df_train.to_csv('train_upper.csv', index=False)\n",
    "    df_test.to_csv('test_upper.csv', index=False)"
   ]
  },
  {
   "cell_type": "markdown",
   "metadata": {},
   "source": [
    "#### Ensure 1 body per image "
   ]
  },
  {
   "cell_type": "code",
   "execution_count": 8,
   "metadata": {},
   "outputs": [
    {
     "name": "stdout",
     "output_type": "stream",
     "text": [
      "Train\n",
      "Number of images:  1136\n",
      "Number of BODY label:  1136\n",
      "Number of INVALID Body label:  0\n",
      "Number of INVALID Pin label:  0\n",
      "Number of INVALID body label:  0\n",
      "Number of INVALID pin label:  0\n"
     ]
    }
   ],
   "source": [
    "# Unique Images\n",
    "print(\"Train\")\n",
    "print(\"Number of images: \", len(df_train.groupby('filename').count().index))\n",
    "print(\"Number of BODY label: \", len(df_train[df_train['class']=='BODY']))\n",
    "if (len(df_train.groupby('filename').count().index) != len(df_train[df_train['class']=='BODY'])):\n",
    "    print(\"[ERROR] the number of body labels doesnt match the image count!\")\n",
    "\n",
    "print(\"Number of INVALID Body label: \", len(df_train[df_train['class']=='Body']))\n",
    "print(\"Number of INVALID Pin label: \", len(df_train[df_train['class']=='Pin']))\n",
    "print(\"Number of INVALID body label: \", len(df_train[df_train['class']=='body']))\n",
    "print(\"Number of INVALID pin label: \", len(df_train[df_train['class']=='pin']))"
   ]
  },
  {
   "cell_type": "code",
   "execution_count": 9,
   "metadata": {},
   "outputs": [
    {
     "name": "stdout",
     "output_type": "stream",
     "text": [
      "Test\n",
      "Number of images:  0\n",
      "Number of BODY label:  0\n",
      "Number of INVALID Body label:  0\n",
      "Number of INVALID Pin label:  0\n",
      "Number of INVALID body label:  0\n",
      "Number of INVALID pin label:  0\n"
     ]
    }
   ],
   "source": [
    "# Unique Images\n",
    "print(\"Test\")\n",
    "print(\"Number of images: \", len(df_test.groupby('filename').count().index))\n",
    "print(\"Number of BODY label: \", len(df_test[df_test['class']=='BODY']))\n",
    "if (len(df_test.groupby('filename').count().index) != len(df_test[df_test['class']=='BODY'])):\n",
    "    print(\"[ERROR] the number of body labels doesnt match the image count!\")\n",
    "\n",
    "print(\"Number of INVALID Body label: \", len(df_test[df_test['class']=='Body']))\n",
    "print(\"Number of INVALID Pin label: \", len(df_test[df_test['class']=='Pin']))\n",
    "print(\"Number of INVALID body label: \", len(df_test[df_test['class']=='body']))\n",
    "print(\"Number of INVALID pin label: \", len(df_test[df_test['class']=='pin']))"
   ]
  },
  {
   "cell_type": "markdown",
   "metadata": {},
   "source": [
    "## Pin Count Distribution"
   ]
  },
  {
   "cell_type": "code",
   "execution_count": 10,
   "metadata": {},
   "outputs": [
    {
     "name": "stdout",
     "output_type": "stream",
     "text": [
      "train Pin+Body Data:\n",
      " 4    312\n",
      "1    296\n",
      "5    224\n",
      "9    176\n",
      "6     48\n",
      "7     40\n",
      "3     40\n",
      "Name: filename, dtype: int64\n"
     ]
    }
   ],
   "source": [
    "Component_Pin_Group_train = df_train.groupby('filename').filename.count() \n",
    "print(\"train Pin+Body Data:\\n\", Component_Pin_Group_train.value_counts())"
   ]
  },
  {
   "cell_type": "code",
   "execution_count": 11,
   "metadata": {},
   "outputs": [
    {
     "name": "stdout",
     "output_type": "stream",
     "text": [
      "Test\n",
      "Number of images:  0\n",
      "Number of BODY label:  0\n",
      "Number of INVALID Body label:  0\n",
      "Number of INVALID Pin label:  0\n",
      "Number of INVALID body label:  0\n",
      "Number of INVALID pin label:  0\n"
     ]
    }
   ],
   "source": [
    "# Unique Images\n",
    "print(\"Test\")\n",
    "print(\"Number of images: \", len(df_test.groupby('filename').count().index))\n",
    "print(\"Number of BODY label: \", len(df_test[df_test['class']=='BODY']))\n",
    "if (len(df_test.groupby('filename').count().index) != len(df_test[df_test['class']=='BODY'])):\n",
    "    print(\"[ERROR] the number of body labels doesnt match the image count!\")\n",
    "\n",
    "print(\"Number of INVALID Body label: \", len(df_test[df_test['class']=='Body']))\n",
    "print(\"Number of INVALID Pin label: \", len(df_test[df_test['class']=='Pin']))\n",
    "print(\"Number of INVALID body label: \", len(df_test[df_test['class']=='body']))\n",
    "print(\"Number of INVALID pin label: \", len(df_test[df_test['class']=='pin']))"
   ]
  },
  {
   "cell_type": "code",
   "execution_count": 12,
   "metadata": {},
   "outputs": [
    {
     "name": "stdout",
     "output_type": "stream",
     "text": [
      "test Pin+Body Data:\n",
      " Series([], Name: filename, dtype: int64)\n"
     ]
    }
   ],
   "source": [
    "Component_Pin_Group_test = df_test.groupby('filename').filename.count() \n",
    "print(\"test Pin+Body Data:\\n\", Component_Pin_Group_test.value_counts())"
   ]
  },
  {
   "cell_type": "markdown",
   "metadata": {},
   "source": [
    "#### Invalid pin count Distribution\n",
    "The number of pins is more than 256"
   ]
  },
  {
   "cell_type": "code",
   "execution_count": 13,
   "metadata": {},
   "outputs": [
    {
     "name": "stdout",
     "output_type": "stream",
     "text": [
      "[INFO]: No Pin count > 256. No invalid pins found!\n"
     ]
    }
   ],
   "source": [
    "# TRAIN\n",
    "# Pin > 256 i.e invalid\n",
    "Component_Pin_Group_256 = Component_Pin_Group_train[Component_Pin_Group_train>256]\n",
    "if (len(Component_Pin_Group_256) > 0):\n",
    "    print(\"[ERROR]: No Pin count > 256. Invalid pins found!\")    \n",
    "    plt.figure(figsize=(16,6))\n",
    "    plt.title(\"Histogram of pin count greater than 256\")\n",
    "    sns.distplot(a=Component_Pin_Group_256, kde=False)\n",
    "\n",
    "    plt.figure(figsize=(16,6))\n",
    "    plt.title(\"Cumalitive of pin count greater than 256\")\n",
    "    kwargs = {'cumulative': True}\n",
    "    sns.distplot(Component_Pin_Group_256, hist_kws=kwargs, kde_kws=kwargs)\n",
    "    print(Component_Pin_Group_256.value_counts())\n",
    "else:\n",
    "    print(\"[INFO]: No Pin count > 256. No invalid pins found!\")"
   ]
  },
  {
   "cell_type": "code",
   "execution_count": 14,
   "metadata": {},
   "outputs": [],
   "source": [
    "# Inspect details\n",
    "# Component_Pin_Group_256[Component_Pin_Group_256>256].head()\n",
    "\n",
    "# Search\n",
    "# df_all [df_all['filename']=='CRC1TCTL0003_6_0_1-ic8.jpg'].head()"
   ]
  },
  {
   "cell_type": "code",
   "execution_count": 15,
   "metadata": {},
   "outputs": [
    {
     "name": "stdout",
     "output_type": "stream",
     "text": [
      "[INFO]: No Pin count > 256. No invalid pins found!\n"
     ]
    }
   ],
   "source": [
    "# TEST\n",
    "# Pin > 256 i.e invalid\n",
    "Component_Pin_Group_256 = Component_Pin_Group_test[Component_Pin_Group_test>256]\n",
    "if (len(Component_Pin_Group_256) > 0):\n",
    "    print(\"[ERROR]: No Pin count > 256. Invalid pins found!\")    \n",
    "    plt.figure(figsize=(16,6))\n",
    "    plt.title(\"Histogram of pin count greater than 256\")\n",
    "    sns.distplot(a=Component_Pin_Group_256, kde=False)\n",
    "\n",
    "    plt.figure(figsize=(16,6))\n",
    "    plt.title(\"Cumalitive of pin count greater than 256\")\n",
    "    kwargs = {'cumulative': True}\n",
    "    sns.distplot(Component_Pin_Group_256, hist_kws=kwargs, kde_kws=kwargs)\n",
    "    print(Component_Pin_Group_256.value_counts())\n",
    "else:\n",
    "    print(\"[INFO]: No Pin count > 256. No invalid pins found!\")"
   ]
  },
  {
   "cell_type": "code",
   "execution_count": 16,
   "metadata": {},
   "outputs": [],
   "source": [
    "# Inspect details\n",
    "# Component_Pin_Group_256[Component_Pin_Group_256>256].head()\n",
    "\n",
    "# Search\n",
    "# df_all [df_all['filename']=='CRC1TCTL0003_6_0_1-ic8.jpg'].head()"
   ]
  },
  {
   "cell_type": "markdown",
   "metadata": {},
   "source": [
    "#### Normal Pin distibutions"
   ]
  },
  {
   "cell_type": "code",
   "execution_count": 21,
   "metadata": {},
   "outputs": [
    {
     "name": "stdout",
     "output_type": "stream",
     "text": [
      "[MSG]: Test set in empty.\n"
     ]
    },
    {
     "data": {
      "image/png": "[encoded data removed]",
      "text/plain": [
       "<Figure size 1152x432 with 1 Axes>"
      ]
     },
     "metadata": {},
     "output_type": "display_data"
    }
   ],
   "source": [
    "# Test\n",
    "_temp = df_test.groupby('filename').filename.count() \n",
    "if len(_temp)>0:\n",
    "    sns.set_style(\"whitegrid\")\n",
    "    barplot_pin_distribution(df_test, title=\"Component_Pin_Group_Test pin count distribution\")\n",
    "    \n",
    "    # plt.figure(figsize=(16,6))\n",
    "    # plt.title(\"Cumalitive of test\")\n",
    "    # kwargs = {'cumulative': True}\n",
    "    # sns.distplot(Component_Pin_Group_Test, hist_kws=kwargs, kde_kws=kwargs)\n",
    "    # print(\"Test Pin Data:\\n\", Component_Pin_Group_Test.value_counts())\n",
    "else:\n",
    "    print(\"[MSG]: Test set in empty.\")\n",
    "\n",
    "# Train\n",
    "_temp = df_train.groupby('filename').filename.count() \n",
    "if len(_temp)>0:\n",
    "    sns.set_style(\"darkgrid\")\n",
    "    barplot_pin_distribution(df_train, title=\"Component_Pin_Group_Train pin count distribution\")\n",
    "    \n",
    "    # plt.figure(figsize=(16,6))\n",
    "    # plt.title(\"Cumalitive of train\")\n",
    "    # kwargs = {'cumulative': True}\n",
    "    # sns.distplot(Component_Pin_Group_Train, hist_kws=kwargs, kde_kws=kwargs)\n",
    "    # print(\"Train Pin Data:\\n\", Component_Pin_Group_Train.value_counts())\n",
    "\n",
    "else:\n",
    "    print(\"[MSG]: Train set in empty.\")"
   ]
  },
  {
   "cell_type": "markdown",
   "metadata": {},
   "source": [
    "### Drop duplicate\n",
    "- Sometime is a file the same line is repeate twice"
   ]
  },
  {
   "cell_type": "code",
   "execution_count": 34,
   "metadata": {},
   "outputs": [
    {
     "name": "stdout",
     "output_type": "stream",
     "text": [
      "[Info]: No duplicate entry found in test.\n",
      "[Info]: No duplicate entry found in train.\n"
     ]
    }
   ],
   "source": [
    "# Test\n",
    "if (len (df_test) != len(df_test.drop_duplicates())):\n",
    "    print(\"Error: Duplicate entry found in dataset, furthur analysis is required.\")\n",
    "\n",
    "    #  Analysis\n",
    "    _temp = df_test.drop_duplicates().groupby('filename').filename.count() \n",
    "    sns.set_style(\"darkgrid\")\n",
    "    plt.figure(figsize=(16,6))\n",
    "    plt.title(\"Histogram of test\")\n",
    "    sns.barplot(x=_temp.value_counts().index, y=_temp.value_counts().values)\n",
    "\n",
    "    #Save\n",
    "    if (False):\n",
    "        df_test.drop_duplicates().to_csv('test_dup_fixed.csv', index=False)\n",
    "    else:\n",
    "        print(\"{MSG]: Not saving changes.\")\n",
    "    print(\"BF: \",len(df_test),\"AF:\", len(df_test.drop_duplicates()))\n",
    "    \n",
    "    #Table\n",
    "    print(df_test[df_test.duplicated()])\n",
    "    print(\"Duplicates Count: \", len(df_test[df_test.duplicated()]))\n",
    "else:\n",
    "    print(\"[Info]: No duplicate entry found in test.\")\n",
    "\n",
    "\n",
    "# Train\n",
    "if (len (df_train) != len(df_train.drop_duplicates())):\n",
    "    print(\"Error: Duplicate entry found in dataset, furthur analysis is required.\")\n",
    "        \n",
    "    sns.set_style(\"dark\")\n",
    "    _temp = df_train.drop_duplicates().groupby('filename').filename.count() \n",
    "    plt.figure(figsize=(16,6))\n",
    "    plt.title(\"Histogram of train after dropping duplicates\")\n",
    "    sns.barplot(x=_temp.value_counts().index, y=_temp.value_counts().values)\n",
    "\n",
    "    # Save\n",
    "    if (False):\n",
    "        df_train.drop_duplicates().to_csv('train_dup_fixed.csv', index=False)\n",
    "    else:\n",
    "        print(\"{MSG]: Not saving changes.\")\n",
    "    print(\"BF: \",len(df_train),\"AF:\", len(df_train.drop_duplicates()))\n",
    "    \n",
    "    \n",
    "    #Table\n",
    "    print(df_train[df_train.duplicated()])\n",
    "    print(\"Duplicates Count: \", len(df_train[df_train.duplicated()]))\n",
    "else:\n",
    "    print(\"[Info]: No duplicate entry found in train.\")\n",
    "\n"
   ]
  },
  {
   "cell_type": "markdown",
   "metadata": {},
   "source": [
    "## Write space - 2\n",
    "- Merging two csv"
   ]
  },
  {
   "cell_type": "code",
   "execution_count": 24,
   "metadata": {},
   "outputs": [
    {
     "name": "stdout",
     "output_type": "stream",
     "text": [
      "train Pin+Body Data:\n",
      " 4     824\n",
      "3     520\n",
      "1     416\n",
      "7     280\n",
      "5     280\n",
      "9     208\n",
      "6     136\n",
      "15     80\n",
      "49     40\n",
      "21     32\n",
      "25     24\n",
      "8       8\n",
      "Name: filename, dtype: int64\n",
      "test Pin+Body Data:\n",
      " 4     80\n",
      "3     40\n",
      "1     32\n",
      "7     16\n",
      "15     8\n",
      "6      8\n",
      "5      8\n",
      "Name: filename, dtype: int64\n",
      "File path:\t D:\\FZ_WS\\JyNB\\TF_Research_Api_LD_2_0\\research\\object_detection\\scripts\n"
     ]
    },
    {
     "data": {
      "image/png": "[encoded data removed]",
      "text/plain": [
       "<Figure size 1152x432 with 1 Axes>"
      ]
     },
     "metadata": {},
     "output_type": "display_data"
    },
    {
     "data": {
      "image/png": "[encoded data removed]",
      "text/plain": [
       "<Figure size 432x432 with 3 Axes>"
      ]
     },
     "metadata": {},
     "output_type": "display_data"
    },
    {
     "data": {
      "image/png": "[encoded data removed]",
      "text/plain": [
       "<Figure size 1152x432 with 1 Axes>"
      ]
     },
     "metadata": {},
     "output_type": "display_data"
    },
    {
     "data": {
      "image/png": "[encoded data removed]",
      "text/plain": [
       "<Figure size 432x432 with 3 Axes>"
      ]
     },
     "metadata": {},
     "output_type": "display_data"
    }
   ],
   "source": [
    "# Train\n",
    "csv_list=[\n",
    "    'D:/FZ_WS/JyNB/TF_Research_Api_LD_2_0/research/object_detection/images/H_Dataset_00/9608_t_1_90_r/train_labels.csv',\n",
    "    'D:/FZ_WS/JyNB/TF_Research_Api_LD_2_0/research/object_detection/images/H_Dataset_00/AGIH-VR-G2571-61103-panelized/train_labels.csv'\n",
    "]\n",
    "\n",
    "prev = pd.read_csv(csv_list[0])\n",
    "prev.head()\n",
    "for fname in csv_list[1:]:\n",
    "    _temp = pd.read_csv(fname)\n",
    "    prev = pd.concat([prev, _temp])\n",
    "\n",
    "prev['class'].apply(toUpperCase)\n",
    "\n",
    "# Plot\n",
    "sns.set_style(\"whitegrid\")\n",
    "barplot_pin_distribution(prev, title=\"train_labels pin count distribution\")\n",
    "sns.jointplot(x=prev['width'], y=prev['height'], kind=\"kde\")\n",
    "_temp = prev.groupby('filename').filename.count() \n",
    "print(\"train Pin+Body Data:\\n\", _temp.value_counts())\n",
    "prev.to_csv('Merged_Csv/train_labels.csv',index=False)\n",
    "\n",
    "# Test\n",
    "csv_list=[\n",
    "    'D:/FZ_WS/JyNB/TF_Research_Api_LD_2_0/research/object_detection/images/H_Dataset_00/9608_t_1_90_r/test_labels.csv',\n",
    "    'D:/FZ_WS/JyNB/TF_Research_Api_LD_2_0/research/object_detection/images/H_Dataset_00/AGIH-VR-G2571-61103-panelized/test_labels.csv'\n",
    "]\n",
    "\n",
    "prev = pd.read_csv(csv_list[0])\n",
    "prev.head()\n",
    "for fname in csv_list[1:]:\n",
    "    _temp = pd.read_csv(fname)\n",
    "    prev = pd.concat([prev, _temp])\n",
    "\n",
    "prev['class'].apply(toUpperCase)\n",
    "sns.set_style(\"darkgrid\")\n",
    "barplot_pin_distribution(prev, title=\"test_labels pin count distribution\")\n",
    "sns.jointplot(x=prev['width'], y=prev['height'], kind=\"kde\")\n",
    "_temp = prev.groupby('filename').filename.count() \n",
    "print(\"test Pin+Body Data:\\n\", _temp.value_counts())\n",
    "prev.to_csv('Merged_Csv/test_labels.csv',index=False)\n",
    "print(\"File path:\\t\",os.getcwd())\n"
   ]
  },
  {
   "cell_type": "code",
   "execution_count": null,
   "metadata": {},
   "outputs": [],
   "source": []
  },
  {
   "cell_type": "code",
   "execution_count": 10,
   "metadata": {},
   "outputs": [
    {
     "name": "stdout",
     "output_type": "stream",
     "text": [
      "train Pin+Body Data:\n",
      " 4    312\n",
      "1    296\n",
      "5    224\n",
      "9    176\n",
      "6     48\n",
      "7     40\n",
      "3     40\n",
      "Name: filename, dtype: int64\n"
     ]
    }
   ],
   "source": []
  }
 ],
 "metadata": {
  "kernelspec": {
   "display_name": "Python 3",
   "language": "python",
   "name": "python3"
  },
  "language_info": {
   "codemirror_mode": {
    "name": "ipython",
    "version": 3
   },
   "file_extension": ".py",
   "mimetype": "text/x-python",
   "name": "python",
   "nbconvert_exporter": "python",
   "pygments_lexer": "ipython3",
   "version": "3.6.10"
  }
 },
 "nbformat": 4,
 "nbformat_minor": 4
}
