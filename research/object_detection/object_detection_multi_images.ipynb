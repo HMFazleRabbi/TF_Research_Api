{
 "cells": [
  {
   "cell_type": "markdown",
   "metadata": {
    "colab_type": "text",
    "id": "V8-yl-s-WKMG"
   },
   "source": [
    "# Lead Detection Inference Template"
   ]
  },
  {
   "cell_type": "markdown",
   "metadata": {
    "colab_type": "text",
    "id": "kFSqkTCdWKMI"
   },
   "source": [
    "# Imports"
   ]
  },
  {
   "cell_type": "code",
   "execution_count": null,
   "metadata": {},
   "outputs": [],
   "source": [
    "#!export CUDA_VISIBLE_DEVICES=1"
   ]
  },
  {
   "cell_type": "code",
   "execution_count": 1,
   "metadata": {
    "colab": {
     "autoexec": {
      "startup": false,
      "wait_interval": 0
     }
    },
    "colab_type": "code",
    "id": "hV4P5gyTWKMI"
   },
   "outputs": [
    {
     "data": {
      "text/plain": [
       "'1.15.0'"
      ]
     },
     "execution_count": 1,
     "metadata": {},
     "output_type": "execute_result"
    }
   ],
   "source": [
    "import numpy as np\n",
    "import os\n",
    "import six.moves.urllib as urllib\n",
    "import sys\n",
    "import tarfile\n",
    "import tensorflow as tf\n",
    "import zipfile\n",
    "from tqdm import tqdm\n",
    "\n",
    "from distutils.version import StrictVersion\n",
    "from collections import defaultdict\n",
    "from io import StringIO\n",
    "from matplotlib import pyplot as plt\n",
    "from PIL import Image\n",
    "import time\n",
    "\n",
    "# This is needed since the notebook is stored in the object_detection folder.\n",
    "sys.path.append(\"..\")\n",
    "from object_detection.utils import ops as utils_ops\n",
    "\n",
    "if StrictVersion(tf.__version__) < StrictVersion('1.12.0'):\n",
    "  raise ImportError('Please upgrade your TensorFlow installation to v1.12.*.')\n",
    "\n",
    "tf.__version__\n"
   ]
  },
  {
   "cell_type": "markdown",
   "metadata": {
    "colab_type": "text",
    "id": "Wy72mWwAWKMK"
   },
   "source": [
    "## Env setup"
   ]
  },
  {
   "cell_type": "code",
   "execution_count": 2,
   "metadata": {
    "colab": {
     "autoexec": {
      "startup": false,
      "wait_interval": 0
     }
    },
    "colab_type": "code",
    "id": "v7m_NY_aWKMK"
   },
   "outputs": [],
   "source": [
    "# This is needed to display the images.\n",
    "%matplotlib inline"
   ]
  },
  {
   "cell_type": "markdown",
   "metadata": {
    "colab_type": "text",
    "id": "r5FNuiRPWKMN"
   },
   "source": [
    "## Object detection imports\n",
    "Here are the imports from the object detection module."
   ]
  },
  {
   "cell_type": "code",
   "execution_count": 3,
   "metadata": {
    "colab": {
     "autoexec": {
      "startup": false,
      "wait_interval": 0
     }
    },
    "colab_type": "code",
    "id": "bm0_uNRnWKMN"
   },
   "outputs": [],
   "source": [
    "from utils import label_map_util\n",
    "\n",
    "from utils import visualization_utils as vis_util"
   ]
  },
  {
   "cell_type": "markdown",
   "metadata": {
    "colab_type": "text",
    "id": "cfn_tRFOWKMO"
   },
   "source": [
    "# Model preparation "
   ]
  },
  {
   "cell_type": "code",
   "execution_count": 4,
   "metadata": {
    "colab": {
     "autoexec": {
      "startup": false,
      "wait_interval": 0
     }
    },
    "colab_type": "code",
    "id": "VyPz_t8WWKMQ"
   },
   "outputs": [
    {
     "name": "stdout",
     "output_type": "stream",
     "text": [
      "Pb:\tD:\\FZ_WS\\JyNB\\TF_Research_Api_LD_2_0\\research\\object_detection\\inference_graph/V-09-tolleausmalschlade\\frozen_inference_graph.pb\n",
      "Labelmap:\tdata\\lead_detection_label_map.pbtxt\n"
     ]
    }
   ],
   "source": [
    "# Paths\n",
    "root_dir = os.getcwd()\n",
    "FROZEN_GRAPH_DIR='inference_graph/V-09-tolleausmalschlade'\n",
    "\n",
    "# Path to frozen detection graph. This is the actual model that is used for the object detection.\n",
    "PATH_TO_FROZEN_GRAPH = os.path.join(root_dir, FROZEN_GRAPH_DIR, \"frozen_inference_graph.pb\")\n",
    "\n",
    "# List of the strings that is used to add correct label for each box.\n",
    "# PATH_TO_LABELS = os.path.join(root_dir, 'training_ocr_ssd_fpn_efficientnet', 'object-detection.pbtxt')\n",
    "PATH_TO_LABELS = os.path.join('data', 'lead_detection_label_map.pbtxt')\n",
    "print(\"Pb:\\t{}\\nLabelmap:\\t{}\".format(PATH_TO_FROZEN_GRAPH, PATH_TO_LABELS))"
   ]
  },
  {
   "cell_type": "markdown",
   "metadata": {
    "colab_type": "text",
    "id": "YBcB9QHLWKMU"
   },
   "source": [
    "## Load a (frozen) Tensorflow model into memory."
   ]
  },
  {
   "cell_type": "code",
   "execution_count": 5,
   "metadata": {
    "colab": {
     "autoexec": {
      "startup": false,
      "wait_interval": 0
     }
    },
    "colab_type": "code",
    "id": "KezjCRVvWKMV"
   },
   "outputs": [
    {
     "name": "stdout",
     "output_type": "stream",
     "text": [
      "Graph import successful\n"
     ]
    }
   ],
   "source": [
    "detection_graph = tf.Graph()\n",
    "with detection_graph.as_default():\n",
    "  od_graph_def = tf.GraphDef()\n",
    "  with tf.gfile.GFile(PATH_TO_FROZEN_GRAPH, 'rb') as fid:\n",
    "    serialized_graph = fid.read()\n",
    "    od_graph_def.ParseFromString(serialized_graph)\n",
    "    tf.import_graph_def(od_graph_def, name='')\n",
    "    print('Graph import successful')"
   ]
  },
  {
   "cell_type": "markdown",
   "metadata": {
    "colab_type": "text",
    "id": "_1MVVTcLWKMW"
   },
   "source": [
    "## Loading label map\n",
    "Label maps map indices to category names"
   ]
  },
  {
   "cell_type": "code",
   "execution_count": 6,
   "metadata": {
    "colab": {
     "autoexec": {
      "startup": false,
      "wait_interval": 0
     }
    },
    "colab_type": "code",
    "id": "hDbpHkiWWKMX"
   },
   "outputs": [
    {
     "name": "stdout",
     "output_type": "stream",
     "text": [
      "{1: {'id': 1, 'name': 'BODY'}, 2: {'id': 2, 'name': 'PIN'}}\n"
     ]
    }
   ],
   "source": [
    "category_index = label_map_util.create_category_index_from_labelmap(PATH_TO_LABELS, use_display_name=True)\n",
    "print(category_index)"
   ]
  },
  {
   "cell_type": "markdown",
   "metadata": {
    "colab_type": "text",
    "id": "EFsoUHvbWKMZ"
   },
   "source": [
    "## Helper code"
   ]
  },
  {
   "cell_type": "code",
   "execution_count": 7,
   "metadata": {
    "colab": {
     "autoexec": {
      "startup": false,
      "wait_interval": 0
     }
    },
    "colab_type": "code",
    "id": "aSlYc3JkWKMa"
   },
   "outputs": [],
   "source": [
    "def load_image_into_numpy_array(image, grayscale = False):\n",
    "  (im_width, im_height) = image.size\n",
    "  if grayscale:\n",
    "      return np.repeat(np.asarray(image)[:, :, np.newaxis], 3, axis = 2)\n",
    "  else:\n",
    "      return np.array(image.getdata()).reshape(\n",
    "          (im_height, im_width, 3)).astype(np.uint8)"
   ]
  },
  {
   "cell_type": "markdown",
   "metadata": {
    "colab_type": "text",
    "id": "H0_1AGhrWKMc"
   },
   "source": [
    "# Detection"
   ]
  },
  {
   "cell_type": "code",
   "execution_count": 8,
   "metadata": {
    "colab": {
     "autoexec": {
      "startup": false,
      "wait_interval": 0
     }
    },
    "colab_type": "code",
    "id": "jG-zn5ykWKMd"
   },
   "outputs": [
    {
     "name": "stdout",
     "output_type": "stream",
     "text": [
      "Creating images_out\\train\n",
      "Count TEST_IMAGE_PATHS:\t7024\n",
      "grid_w, grid_h:  8 878\n",
      "DONE!\n"
     ]
    }
   ],
   "source": [
    "import glob\n",
    "\n",
    "# Paths\n",
    "PATH_TO_IMAGES_DIR = \"images\"\n",
    "PATH_TO_TEST_IMAGES_DIR = os.path.join(PATH_TO_IMAGES_DIR, \"train\")\n",
    "PATH_TO_OUT_IMG_DIR = \"images_out\"\n",
    "PATH_TO_OUT_TEST_IMAGES_DIR = os.path.join(PATH_TO_OUT_IMG_DIR, \"train\")\n",
    "\n",
    "# Image Path\n",
    "TEST_IMAGE_PATHS = [f for f in glob.glob(PATH_TO_TEST_IMAGES_DIR + \"/*.jpg\", recursive=True)]\n",
    "\n",
    "if (len(TEST_IMAGE_PATHS) >0) :\n",
    "    if not os.path.isdir(PATH_TO_OUT_IMG_DIR):\n",
    "        os.makedirs(PATH_TO_OUT_IMG_DIR)\n",
    "        print (\"Creating {}\".format(PATH_TO_OUT_IMG_DIR))\n",
    "    if not os.path.isdir(PATH_TO_OUT_TEST_IMAGES_DIR):\n",
    "        os.makedirs(PATH_TO_OUT_TEST_IMAGES_DIR)\n",
    "        print (\"Creating {}\".format(PATH_TO_OUT_TEST_IMAGES_DIR))\n",
    "\n",
    "\n",
    "# Size, in inches, of the output images.\n",
    "IMAGE_SIZE = (20, 10)\n",
    "grid_w, grid_h = 8, len(TEST_IMAGE_PATHS) // 8\n",
    "TEST_IMAGE_PATHS =TEST_IMAGE_PATHS [:grid_w * grid_h]\n",
    "\n",
    "print(\"Count TEST_IMAGE_PATHS:\\t{}\".format(len(TEST_IMAGE_PATHS)))\n",
    "print(\"grid_w, grid_h: \",grid_w, grid_h)\n",
    "print(\"DONE!\")"
   ]
  },
  {
   "cell_type": "code",
   "execution_count": 9,
   "metadata": {},
   "outputs": [],
   "source": [
    "def run_inference_for_images(images_path, graph):\n",
    "    with graph.as_default():\n",
    "        #config = tf.ConfigProto(gpu_options=tf.GPUOptions(allow_growth=True,visible_device_list='1'))\n",
    "        config = tf.ConfigProto(gpu_options=tf.GPUOptions(allow_growth=True))\n",
    "        with tf.Session(config = config) as sess:\n",
    "            output_dict_array = []\n",
    "            \n",
    "            for image_path in tqdm(images_path):\n",
    "                \n",
    "                image = Image.open(image_path)\n",
    "          \n",
    "                # Get handles to input and output tensors\n",
    "                ops = tf.get_default_graph().get_operations()\n",
    "                all_tensor_names = {output.name for op in ops for output in op.outputs}\n",
    "                tensor_dict = {}\n",
    "                for key in [\n",
    "                    'num_detections', 'detection_boxes', 'detection_scores',\n",
    "                    'detection_classes', 'detection_masks'\n",
    "                ]:\n",
    "                    tensor_name = key + ':0'\n",
    "                    if tensor_name in all_tensor_names:\n",
    "                        tensor_dict[key] = tf.get_default_graph().get_tensor_by_name(\n",
    "                            tensor_name)\n",
    "                if 'detection_masks' in tensor_dict:\n",
    "                    detection_boxes = tf.squeeze(tensor_dict['detection_boxes'], [0])\n",
    "                    detection_masks = tf.squeeze(tensor_dict['detection_masks'], [0])\n",
    "                    # Reframe is required to translate mask from box coordinates to image coordinates and fit the image size.\n",
    "                    real_num_detection = tf.cast(tensor_dict['num_detections'][0], tf.int32)\n",
    "                    detection_boxes = tf.slice(detection_boxes, [0, 0], [real_num_detection, -1])\n",
    "                    detection_masks = tf.slice(detection_masks, [0, 0, 0], [real_num_detection, -1, -1])\n",
    "                    detection_masks_reframed = utils_ops.reframe_box_masks_to_image_masks(\n",
    "                        detection_masks, detection_boxes, image.shape[0], image.shape[1])\n",
    "                    detection_masks_reframed = tf.cast(\n",
    "                        tf.greater(detection_masks_reframed, 0.5), tf.uint8)\n",
    "                    # Follow the convention by adding back the batch dimension\n",
    "                    tensor_dict['detection_masks'] = tf.expand_dims(\n",
    "                        detection_masks_reframed, 0)\n",
    "                image_tensor = tf.get_default_graph().get_tensor_by_name('image_tensor:0')\n",
    "                \n",
    "                # Run inference\n",
    "                output_dict = sess.run(tensor_dict,\n",
    "                                       feed_dict={image_tensor: np.expand_dims(image, 0)})\n",
    "\n",
    "                # all outputs are float32 numpy arrays, so convert types as appropriate\n",
    "                output_dict['num_detections'] = int(output_dict['num_detections'][0])\n",
    "                output_dict['detection_classes'] = output_dict[\n",
    "                    'detection_classes'][0].astype(np.uint8)\n",
    "                output_dict['detection_boxes'] = output_dict['detection_boxes'][0]\n",
    "                output_dict['detection_scores'] = output_dict['detection_scores'][0]\n",
    "                if 'detection_masks' in output_dict:\n",
    "                    output_dict['detection_masks'] = output_dict['detection_masks'][0]\n",
    "\n",
    "                output_dict_array.append(output_dict)\n",
    "  \n",
    "            \n",
    "    return output_dict_array\n"
   ]
  },
  {
   "cell_type": "code",
   "execution_count": 10,
   "metadata": {
    "colab": {
     "autoexec": {
      "startup": false,
      "wait_interval": 0
     }
    },
    "colab_type": "code",
    "id": "3a5wMHN8WKMh"
   },
   "outputs": [
    {
     "name": "stdout",
     "output_type": "stream",
     "text": [
      "Running inference sess...\n"
     ]
    },
    {
     "name": "stderr",
     "output_type": "stream",
     "text": [
      "100%|████████████████████████████████████████████████████████████████████████████████████████████████████████████████████████████████████████████████████████████████████████████████████████████████████████| 7024/7024 [24:28<00:00,  4.78it/s]\n",
      "  0%|                                                                                                                                                                                                                   | 0/7024 [00:00<?, ?it/s]"
     ]
    },
    {
     "name": "stdout",
     "output_type": "stream",
     "text": [
      "Running Visualize and Record Prediction Result...\n"
     ]
    },
    {
     "name": "stderr",
     "output_type": "stream",
     "text": [
      "  0%|▌                                                                                                                                                                                                         | 20/7024 [00:05<31:55,  3.66it/s]C:\\Users\\V510\\Anaconda3\\envs\\TF_15_Py36\\lib\\site-packages\\ipykernel_launcher.py:35: RuntimeWarning: More than 20 figures have been opened. Figures created through the pyplot interface (`matplotlib.pyplot.figure`) are retained until explicitly closed and may consume too much memory. (To control this warning, see the rcParam `figure.max_open_warning`).\n",
      "100%|████████████████████████████████████████████████████████████████████████████████████████████████████████████████████████████████████████████████████████████████████████████████████████████████████████| 7024/7024 [35:04<00:00,  3.34it/s]\n"
     ]
    },
    {
     "name": "stdout",
     "output_type": "stream",
     "text": [
      "Done\n",
      "3573.8797364234924\n"
     ]
    }
   ],
   "source": [
    "import pandas as pd\n",
    "\n",
    "# Predition\n",
    "images = []\n",
    "print(\"Running inference sess...\")\n",
    "start = time.time()\n",
    "output_dict_array = run_inference_for_images(TEST_IMAGE_PATHS, detection_graph)\n",
    "\n",
    "# Visualize and Record Prediction Result\n",
    "print(\"Running Visualize and Record Prediction Result...\")\n",
    "for index, output_dict in enumerate(tqdm(output_dict_array)):\n",
    "    # Load Image\n",
    "    image_path = TEST_IMAGE_PATHS[index]\n",
    "    image = Image.open(image_path)\n",
    "    \n",
    "    #image_np = load_image_into_numpy_array(image, grayscale=True)\n",
    "    image_np = load_image_into_numpy_array(image)\n",
    "    \n",
    "    out_image_path = os.path.join( PATH_TO_OUT_TEST_IMAGES_DIR , os.path.basename(image_path))\n",
    "    out_text_path = out_image_path.replace('.jpg','.txt')\n",
    "        \n",
    "    # Output Images\n",
    "    vis_util.visualize_boxes_and_labels_on_image_array(\n",
    "          image_np,\n",
    "          output_dict['detection_boxes'],\n",
    "          output_dict['detection_classes'],\n",
    "          output_dict['detection_scores'],\n",
    "          category_index,\n",
    "          instance_masks=output_dict.get('detection_masks'),\n",
    "          use_normalized_coordinates=True,\n",
    "          line_thickness=3,\n",
    "          skip_scores=False,\n",
    "          skip_labels=True)\n",
    "    \n",
    "    plt.figure(figsize=IMAGE_SIZE)\n",
    "    plt.imshow(image_np)\n",
    "    plt.savefig(out_image_path)\n",
    "    \n",
    "    # Output Text\n",
    "    boxes = output_dict['detection_boxes']\n",
    "    # get all boxes from an array\n",
    "    max_boxes_to_draw = boxes.shape[0]\n",
    "    # get scores to get a threshold\n",
    "    scores = output_dict['detection_scores']\n",
    "    # this is set as a default but feel free to adjust it to your needs\n",
    "    width, height = image.size\n",
    "\n",
    "    detected_img_list = []\n",
    "    detected_class_list = []\n",
    "    detected_score_list = []\n",
    "    detected_x_min = []\n",
    "    detected_y_min = []\n",
    "    detected_x_max = []\n",
    "    detected_y_max = []\n",
    "\n",
    "    min_score_thresh=.5\n",
    "    # iterate over all objects found\n",
    "    for i in range(min(max_boxes_to_draw, boxes.shape[0])):\n",
    "      if scores is None or scores[i] > min_score_thresh:\n",
    "          # boxes[i] is the box which will be drawn\n",
    "          class_name = category_index[output_dict['detection_classes'][i]]['name']\n",
    "          confidence_score = scores[i]\n",
    "          y_min = boxes[i][0] * height\n",
    "          x_min = boxes[i][1] * width\n",
    "          y_max = boxes[i][2] * height\n",
    "          x_max = boxes[i][3] * width\n",
    "\n",
    "          detected_img_list.append(os.path.basename(image_path))\n",
    "          detected_class_list.append(class_name)\n",
    "          detected_score_list.append(confidence_score)\n",
    "          detected_x_min.append(int(x_min))\n",
    "          detected_y_min.append(int(y_min))\n",
    "          detected_x_max.append(int(x_max))\n",
    "          detected_y_max.append(int(y_max))\n",
    "        \n",
    "    myPrediction = pd.DataFrame({\n",
    "        'xmin': detected_x_min,\n",
    "        'ymin': detected_y_min,\n",
    "        'xmax': detected_x_max,\n",
    "        'ymax': detected_y_max,\n",
    "        'class': detected_class_list,\n",
    "        'scores': detected_score_list\n",
    "    })\n",
    "    myPrediction.to_csv(out_text_path,encoding='utf-8', header=None, index=False, sep=\",\")\n",
    "\n",
    "print('Done')\n",
    "end = time.time()\n",
    "total_time = end - start\n",
    "print(end - start)"
   ]
  },
  {
   "cell_type": "code",
   "execution_count": null,
   "metadata": {},
   "outputs": [],
   "source": []
  }
 ],
 "metadata": {
  "colab": {
   "default_view": {},
   "name": "object_detection_tutorial.ipynb?workspaceId=ronnyvotel:python_inference::citc",
   "provenance": [],
   "version": "0.3.2",
   "views": {}
  },
  "kernelspec": {
   "display_name": "Python 3",
   "language": "python",
   "name": "python3"
  },
  "language_info": {
   "codemirror_mode": {
    "name": "ipython",
    "version": 3
   },
   "file_extension": ".py",
   "mimetype": "text/x-python",
   "name": "python",
   "nbconvert_exporter": "python",
   "pygments_lexer": "ipython3",
   "version": "3.6.10"
  }
 },
 "nbformat": 4,
 "nbformat_minor": 4
}
