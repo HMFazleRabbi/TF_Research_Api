{
 "cells": [
  {
   "cell_type": "markdown",
   "metadata": {
    "colab_type": "text",
    "id": "V8-yl-s-WKMG"
   },
   "source": [
    "# Lead Detection Inference Template"
   ]
  },
  {
   "cell_type": "markdown",
   "metadata": {
    "colab_type": "text",
    "id": "kFSqkTCdWKMI"
   },
   "source": [
    "# Imports"
   ]
  },
  {
   "cell_type": "code",
   "execution_count": 1,
   "metadata": {},
   "outputs": [],
   "source": [
    "#!export CUDA_VISIBLE_DEVICES=1"
   ]
  },
  {
   "cell_type": "code",
   "execution_count": 1,
   "metadata": {
    "colab": {
     "autoexec": {
      "startup": false,
      "wait_interval": 0
     }
    },
    "colab_type": "code",
    "id": "bm0_uNRnWKMN"
   },
   "outputs": [],
   "source": [
    "import numpy as np\n",
    "import os\n",
    "import six.moves.urllib as urllib\n",
    "import sys\n",
    "import tarfile\n",
    "import tensorflow as tf\n",
    "import zipfile\n",
    "from tqdm import tqdm\n",
    "import cv2\n",
    "\n",
    "from distutils.version import StrictVersion\n",
    "from collections import defaultdict\n",
    "from io import StringIO\n",
    "from matplotlib import pyplot as plt\n",
    "from PIL import Image\n",
    "import time\n",
    "import pandas as pd\n",
    "\n",
    "# This is needed since the notebook is stored in the object_detection folder.\n",
    "sys.path.append(\"..\")\n",
    "from object_detection.utils import ops as utils_ops\n",
    "\n",
    "if StrictVersion(tf.__version__) < StrictVersion('1.12.0'):\n",
    "  raise ImportError('Please upgrade your TensorFlow installation to v1.12.*.')\n",
    "\n",
    "tf.__version__\n",
    "\n",
    "\n",
    "## Env setup\n",
    "\n",
    "# This is needed to display the images.\n",
    "%matplotlib inline\n",
    "\n",
    "## Object detection imports\n",
    "# Here are the imports from the object detection module.\n",
    "\n",
    "from utils import label_map_util\n",
    "\n",
    "from utils import visualization_utils as vis_util"
   ]
  },
  {
   "cell_type": "markdown",
   "metadata": {
    "colab_type": "text",
    "id": "cfn_tRFOWKMO"
   },
   "source": [
    "# Model preparation "
   ]
  },
  {
   "cell_type": "code",
   "execution_count": 2,
   "metadata": {
    "colab": {
     "autoexec": {
      "startup": false,
      "wait_interval": 0
     }
    },
    "colab_type": "code",
    "id": "VyPz_t8WWKMQ"
   },
   "outputs": [
    {
     "name": "stdout",
     "output_type": "stream",
     "text": [
      "Pb:\tD:\\FZ_WS\\JyNB\\TF_Research_Api_LD_2_0\\research\\object_detection\\inference_graph/V-Jul-14-Checkpoint-Hemd-8\\frozen_inference_graph.pb\n",
      "Labelmap:\tdata\\lead_detection_label_map.pbtxt\n"
     ]
    }
   ],
   "source": [
    "# Paths\n",
    "root_dir = os.getcwd()\n",
    "FROZEN_GRAPH_DIR='inference_graph/V-May-03-Checkpoint-Ausgabe-1'\n",
    "FROZEN_GRAPH_DIR='inference_graph/V-May-04-Checkpoint-Ihr-2'\n",
    "FROZEN_GRAPH_DIR='inference_graph/V-May-01-Checkpoint-bezahlen-1'\n",
    "FROZEN_GRAPH_DIR='inference_graph/V-May-05-Checkpoint-Ihr-4'\n",
    "FROZEN_GRAPH_DIR='inference_graph/V-Jun-04-Checkpoint-Ihr-7'\n",
    "FROZEN_GRAPH_DIR='inference_graph/V-Jun-05-Checkpoint-Sie-1'\n",
    "FROZEN_GRAPH_DIR='inference_graph/V-Jun-16-Checkpoint-Geschlafen-1'\n",
    "FROZEN_GRAPH_DIR='inference_graph/V-Jun-16-Checkpoint-Geschlafen-1-200000'\n",
    "FROZEN_GRAPH_DIR='inference_graph/V-Jun-23-Checkpoint-Mantell-2-150k'\n",
    "FROZEN_GRAPH_DIR='inference_graph/V-Jun-25-Checkpoint-Mantell-6-600K'\n",
    "FROZEN_GRAPH_DIR='inference_graph/V-Jun-25-Checkpoint-Mantell-7-600K'\n",
    "FROZEN_GRAPH_DIR='inference_graph/V-Jun-29-Checkpoint-Mantell-9-600K'\n",
    "FROZEN_GRAPH_DIR='inference_graph/V-Jun-30-Checkpoint-Mantell-13-300k'\n",
    "FROZEN_GRAPH_DIR='inference_graph/V-Jul-11-Checkpoint-Hemd-5'\n",
    "FROZEN_GRAPH_DIR='inference_graph/V-Jul-11-Checkpoint-Hemd-3'\n",
    "FROZEN_GRAPH_DIR='inference_graph/V-Jul-12-Checkpoint-Hemd-6'\n",
    "FROZEN_GRAPH_DIR='inference_graph/V-Jul-14-Checkpoint-Hemd-8'\n",
    "\n",
    "\n",
    "\n",
    "\n",
    "# Path to frozen detection graph. This is the actual model that is used for the object detection.\n",
    "PATH_TO_FROZEN_GRAPH = os.path.join(root_dir, FROZEN_GRAPH_DIR, \"frozen_inference_graph.pb\")\n",
    "\n",
    "# List of the strings that is used to add correct label for each box.\n",
    "# PATH_TO_LABELS = os.path.join(root_dir, 'training_ocr_ssd_fpn_efficientnet', 'object-detection.pbtxt')\n",
    "PATH_TO_LABELS = os.path.join('data', 'pintype_detection_label_map.pbtxt')\n",
    "PATH_TO_LABELS = os.path.join('data', 'pinarray_detection_label_map.pbtxt')\n",
    "PATH_TO_LABELS = os.path.join('data', 'pinonly_detection_label_map.pbtxt')\n",
    "PATH_TO_LABELS = os.path.join('data', 'lead_detection_label_map.pbtxt')\n",
    "\n",
    "print(\"Pb:\\t{}\\nLabelmap:\\t{}\".format(PATH_TO_FROZEN_GRAPH, PATH_TO_LABELS))"
   ]
  },
  {
   "cell_type": "markdown",
   "metadata": {
    "colab_type": "text",
    "id": "YBcB9QHLWKMU"
   },
   "source": [
    "## Load a (frozen) Tensorflow model into memory."
   ]
  },
  {
   "cell_type": "code",
   "execution_count": 3,
   "metadata": {
    "colab": {
     "autoexec": {
      "startup": false,
      "wait_interval": 0
     }
    },
    "colab_type": "code",
    "id": "KezjCRVvWKMV"
   },
   "outputs": [
    {
     "name": "stdout",
     "output_type": "stream",
     "text": [
      "Graph import successful\n"
     ]
    }
   ],
   "source": [
    "detection_graph = tf.Graph()\n",
    "with detection_graph.as_default():\n",
    "  od_graph_def = tf.GraphDef()\n",
    "  with tf.gfile.GFile(PATH_TO_FROZEN_GRAPH, 'rb') as fid:\n",
    "    serialized_graph = fid.read()\n",
    "    od_graph_def.ParseFromString(serialized_graph)\n",
    "    tf.import_graph_def(od_graph_def, name='')\n",
    "    print('Graph import successful')"
   ]
  },
  {
   "cell_type": "markdown",
   "metadata": {
    "colab_type": "text",
    "id": "_1MVVTcLWKMW"
   },
   "source": [
    "## Loading label map\n",
    "Label maps map indices to category names"
   ]
  },
  {
   "cell_type": "code",
   "execution_count": 4,
   "metadata": {
    "colab": {
     "autoexec": {
      "startup": false,
      "wait_interval": 0
     }
    },
    "colab_type": "code",
    "id": "hDbpHkiWWKMX"
   },
   "outputs": [
    {
     "name": "stdout",
     "output_type": "stream",
     "text": [
      "{1: {'id': 1, 'name': 'BODY'}, 2: {'id': 2, 'name': 'PIN'}}\n"
     ]
    }
   ],
   "source": [
    "category_index = label_map_util.create_category_index_from_labelmap(PATH_TO_LABELS, use_display_name=True)\n",
    "print(category_index)"
   ]
  },
  {
   "cell_type": "markdown",
   "metadata": {
    "colab_type": "text",
    "id": "EFsoUHvbWKMZ"
   },
   "source": [
    "## Helper code"
   ]
  },
  {
   "cell_type": "code",
   "execution_count": 5,
   "metadata": {},
   "outputs": [],
   "source": [
    "def load_image_into_numpy_array(image, grayscale = False):\n",
    "  (im_width, im_height) = image.size\n",
    "    \n",
    "  if 0:\n",
    "    im_width = 400 if (im_width>400) else im_width\n",
    "    image = image.crop((0, 0, im_width, im_height))\n",
    "\n",
    "  if grayscale:\n",
    "      return np.repeat(np.asarray(image)[:, :, np.newaxis], 3, axis = 2)\n",
    "  else:\n",
    "      return np.array(image.getdata()).reshape(\n",
    "          (im_height, im_width, 3)).astype(np.uint8)\n",
    "\n",
    "def createDirirectory(path):\n",
    "    if not os.path.isdir(path):\n",
    "        os.makedirs(path)\n",
    "        print (\"Creating {}\".format(path))\n",
    "    return path"
   ]
  },
  {
   "cell_type": "markdown",
   "metadata": {
    "colab_type": "text",
    "id": "H0_1AGhrWKMc"
   },
   "source": [
    "# Detection"
   ]
  },
  {
   "cell_type": "code",
   "execution_count": 7,
   "metadata": {
    "colab": {
     "autoexec": {
      "startup": false,
      "wait_interval": 0
     }
    },
    "colab_type": "code",
    "id": "jG-zn5ykWKMd"
   },
   "outputs": [
    {
     "name": "stdout",
     "output_type": "stream",
     "text": [
      "Creating debug/images_out-V-Jul-14-Checkpoint-Hemd-8\\test\n",
      "Count TEST_IMAGE_PATHS:\t30\n",
      "DONE!\n"
     ]
    }
   ],
   "source": [
    "import glob\n",
    "\n",
    "##########################\n",
    "# Input\n",
    "##########################\n",
    "# Paths\n",
    "# PATH_TO_IMAGES_DIR = \"images/H_Dataset_03/Mixed\"\n",
    "# PATH_TO_IMAGES_DIR = \"images/H_Dataset_05/pintype\"\n",
    "# PATH_TO_IMAGES_DIR = \"images/H_Dataset_07/extracted/MERGED\"\n",
    "PATH_TO_IMAGES_DIR = \"images/H_Dataset_08/H_Dataset_02_PinArray/QFP-Grayscale-ZL\"\n",
    "PATH_TO_IMAGES_DIR = \"images/H_Dataset_08/H_Dataset_02_PinOnly/QFP+SOIC-Multiline\"\n",
    "PATH_TO_IMAGES_DIR = \"images/H_Dataset_08/H_Dataset_02_PinArray/QFP+SOIC\"\n",
    "PATH_TO_IMAGES_DIR = \"D:/FZ_WS/JyNB/TF_Research_Api_LD_2_0/research/object_detection/images/H_Dataset_08/H_Dataset_02_PinOnly/QFP+SOIC-Fragmented\"\n",
    "PATH_TO_IMAGES_DIR = \"D:/FZ_WS/JyNB/TF_Research_Api_LD_2_0/research/object_detection/images/H_Dataset_09/DB_09_V03/DB_Updater\"\n",
    "\n",
    "PATH_TO_TEST_IMAGES_DIR='D:/FZ_WS/JyNB/TF_Research_Api_LD_2_0/research/object_detection/images/H_Dataset_08/H_Dataset_02_PinOnly/QFP-Grayscale-ZL/txt_pin_pinarray_sep_randomize'\n",
    "PATH_TO_TEST_IMAGES_DIR='D:/FZ_WS/JyNB/TF_Research_Api_LD_2_0/research/object_detection/images/H_Dataset_08/H_Dataset_02_PinOnly/QFP+SOIC-Multiline/test'\n",
    "PATH_TO_TEST_IMAGES_DIR='D:/FZ_WS/JyNB/TF_Research_Api_LD_2_0/research/object_detection/images/H_Dataset_08/H_Dataset_02_PinOnly/QFP-Grayscale-ZL/txt_pin_pinarray_sep_randomize_p00_s00'\n",
    "PATH_TO_TEST_IMAGES_DIR = os.path.join(PATH_TO_IMAGES_DIR, \"SOT\")\n",
    "PATH_TO_TEST_IMAGES_DIR = os.path.join(PATH_TO_IMAGES_DIR, \"train\")\n",
    "PATH_TO_TEST_IMAGES_DIR = os.path.join(PATH_TO_IMAGES_DIR, \"test\")\n",
    "\n",
    "##########################\n",
    "# Output\n",
    "##########################\n",
    "# PATH_TO_OUT_IMG_DIR = createDirirectory(\"debug/images_out-V-13-gekochtes-25k\")\n",
    "# PATH_TO_OUT_IMG_DIR = createDirirectory(\"debug/images_out-V-May-03-Checkpoint-Ausgabe-1\")\n",
    "# PATH_TO_OUT_IMG_DIR = createDirirectory(\"debug/images_out-V-May-04-Checkpoint-Ihr-2\")\n",
    "# PATH_TO_OUT_IMG_DIR = createDirirectory(\"debug/images_out-V-May-01-Checkpoint-bezahlen-1\")\n",
    "# PATH_TO_OUT_IMG_DIR = createDirirectory(\"debug/images_out-V-May-04-Checkpoint-Ihr-3\")\n",
    "# PATH_TO_OUT_IMG_DIR = createDirirectory(\"debug/images_out-V-May-05-Checkpoint-Ihr-4\")\n",
    "# PATH_TO_OUT_IMG_DIR = createDirirectory(\"debug/images_out-V-May-05-Checkpoint-Ihr-7\")\n",
    "PATH_TO_OUT_IMG_DIR = createDirirectory(\"debug/images_out-V-Jul-14-Checkpoint-Hemd-8\")\n",
    "PATH_TO_OUT_TEST_IMAGES_DIR = os.path.join(PATH_TO_OUT_IMG_DIR, \"SOT\")\n",
    "PATH_TO_OUT_TEST_IMAGES_DIR = os.path.join(PATH_TO_OUT_IMG_DIR, \"train\")\n",
    "PATH_TO_OUT_TEST_IMAGES_DIR = os.path.join(PATH_TO_OUT_IMG_DIR, \"test\")\n",
    "\n",
    "# Image Path\n",
    "TEST_IMAGE_PATHS = [f for f in glob.glob(PATH_TO_TEST_IMAGES_DIR + \"/*.jpg\", recursive=True)]\n",
    "\n",
    "if (len(TEST_IMAGE_PATHS) >0) :\n",
    "    createDirirectory(PATH_TO_OUT_IMG_DIR)\n",
    "    createDirirectory(PATH_TO_OUT_TEST_IMAGES_DIR)\n",
    "\n",
    "# Size, in inches, of the output images.\n",
    "IMAGE_SIZE = (20, 10)\n",
    "print(\"Count TEST_IMAGE_PATHS:\\t{}\".format(len(TEST_IMAGE_PATHS)))\n",
    "print(\"DONE!\")"
   ]
  },
  {
   "cell_type": "code",
   "execution_count": 8,
   "metadata": {},
   "outputs": [],
   "source": [
    "def run_inference_for_images(images_path, graph):\n",
    "    with graph.as_default():\n",
    "        #config = tf.ConfigProto(gpu_options=tf.GPUOptions(allow_growth=True,visible_device_list='1'))\n",
    "        config = tf.ConfigProto(gpu_options=tf.GPUOptions(allow_growth=True))\n",
    "        with tf.Session(config = config) as sess:\n",
    "            output_dict_array = []\n",
    "            \n",
    "            for image_path in tqdm(images_path):\n",
    "                \n",
    "                #Read images\n",
    "                image = Image.open(image_path).convert(\"RGB\")\n",
    "                \n",
    "                #Crop the first 400 pixel\n",
    "                if 0:\n",
    "                    w, h = image.size\n",
    "                    w = 400 if (w>400) else w\n",
    "                    image = image.crop((0, 0, w, h))\n",
    "                \n",
    "                \n",
    "                # Get handles to input and output tensors\n",
    "                ops = tf.get_default_graph().get_operations()\n",
    "                all_tensor_names = {output.name for op in ops for output in op.outputs}\n",
    "                tensor_dict = {}\n",
    "                for key in [\n",
    "                    'num_detections', 'detection_boxes', 'detection_scores',\n",
    "                    'detection_classes', 'detection_masks'\n",
    "                ]:\n",
    "                    tensor_name = key + ':0'\n",
    "                    if tensor_name in all_tensor_names:\n",
    "                        tensor_dict[key] = tf.get_default_graph().get_tensor_by_name(\n",
    "                            tensor_name)\n",
    "                if 'detection_masks' in tensor_dict:\n",
    "                    detection_boxes = tf.squeeze(tensor_dict['detection_boxes'], [0])\n",
    "                    detection_masks = tf.squeeze(tensor_dict['detection_masks'], [0])\n",
    "                    # Reframe is required to translate mask from box coordinates to image coordinates and fit the image size.\n",
    "                    real_num_detection = tf.cast(tensor_dict['num_detections'][0], tf.int32)\n",
    "                    detection_boxes = tf.slice(detection_boxes, [0, 0], [real_num_detection, -1])\n",
    "                    detection_masks = tf.slice(detection_masks, [0, 0, 0], [real_num_detection, -1, -1])\n",
    "                    detection_masks_reframed = utils_ops.reframe_box_masks_to_image_masks(\n",
    "                        detection_masks, detection_boxes, image.shape[0], image.shape[1])\n",
    "                    detection_masks_reframed = tf.cast(\n",
    "                        tf.greater(detection_masks_reframed, 0.5), tf.uint8)\n",
    "                    # Follow the convention by adding back the batch dimension\n",
    "                    tensor_dict['detection_masks'] = tf.expand_dims(\n",
    "                        detection_masks_reframed, 0)\n",
    "                image_tensor = tf.get_default_graph().get_tensor_by_name('image_tensor:0')\n",
    "                \n",
    "                # Run inference\n",
    "                output_dict = sess.run(tensor_dict,\n",
    "                                       feed_dict={image_tensor: np.expand_dims(image, 0)})\n",
    "\n",
    "                # all outputs are float32 numpy arrays, so convert types as appropriate\n",
    "                output_dict['num_detections'] = int(output_dict['num_detections'][0])\n",
    "                output_dict['detection_classes'] = output_dict[\n",
    "                    'detection_classes'][0].astype(np.uint8)\n",
    "                output_dict['detection_boxes'] = output_dict['detection_boxes'][0]\n",
    "                output_dict['detection_scores'] = output_dict['detection_scores'][0]\n",
    "                if 'detection_masks' in output_dict:\n",
    "                    output_dict['detection_masks'] = output_dict['detection_masks'][0]\n",
    "\n",
    "                output_dict_array.append(output_dict)\n",
    "  \n",
    "            \n",
    "    return output_dict_array\n"
   ]
  },
  {
   "cell_type": "code",
   "execution_count": 9,
   "metadata": {},
   "outputs": [
    {
     "name": "stdout",
     "output_type": "stream",
     "text": [
      "Running inference sess...\n"
     ]
    },
    {
     "name": "stderr",
     "output_type": "stream",
     "text": [
      "100%|███████████████████████████████████████████████████████████████████████████████████████████████████████████████████████████████████████████████████████████████████████████████████████| 30/30 [00:06<00:00,  4.75it/s]\n"
     ]
    }
   ],
   "source": [
    "# Predition\n",
    "images = []\n",
    "print(\"Running inference sess...\")\n",
    "start = time.time()\n",
    "output_dict_array = run_inference_for_images(TEST_IMAGE_PATHS, detection_graph)\n"
   ]
  },
  {
   "cell_type": "code",
   "execution_count": 10,
   "metadata": {
    "colab": {
     "autoexec": {
      "startup": false,
      "wait_interval": 0
     }
    },
    "colab_type": "code",
    "id": "3a5wMHN8WKMh",
    "scrolled": true
   },
   "outputs": [
    {
     "name": "stderr",
     "output_type": "stream",
     "text": [
      "  0%|                                                                                                                                                                                                | 0/30 [00:00<?, ?it/s]"
     ]
    },
    {
     "name": "stdout",
     "output_type": "stream",
     "text": [
      "Running Visualize and Record Prediction Result...\n"
     ]
    },
    {
     "name": "stderr",
     "output_type": "stream",
     "text": [
      "100%|███████████████████████████████████████████████████████████████████████████████████████████████████████████████████████████████████████████████████████████████████████████████████████| 30/30 [00:02<00:00, 13.99it/s]"
     ]
    },
    {
     "name": "stdout",
     "output_type": "stream",
     "text": [
      "Done\n",
      "10.145538330078125\n"
     ]
    },
    {
     "name": "stderr",
     "output_type": "stream",
     "text": [
      "\n"
     ]
    }
   ],
   "source": [
    "import pandas as pd\n",
    "from object_detection.utils import ops as utils_ops\n",
    "from object_detection.utils import label_map_util\n",
    "from object_detection.utils import visualization_utils as vis_util\n",
    "\n",
    "# # Predition\n",
    "# images = []\n",
    "# print(\"Running inference sess...\")\n",
    "# start = time.time()\n",
    "# output_dict_array = run_inference_for_images(TEST_IMAGE_PATHS, detection_graph)\n",
    "\n",
    "# Visualize and Record Prediction Result\n",
    "print(\"Running Visualize and Record Prediction Result...\")\n",
    "for index, output_dict in enumerate(tqdm(output_dict_array)):\n",
    "    # Load Image\n",
    "    image_path = TEST_IMAGE_PATHS[index]\n",
    "    image = Image.open(image_path)\n",
    "    \n",
    "#     print(image_path)\n",
    "    try:\n",
    "        image_np = load_image_into_numpy_array(image, grayscale=False)\n",
    "    except:\n",
    "        image_np = load_image_into_numpy_array(image, grayscale=True)\n",
    "    \n",
    "    if not (os.path.isdir(PATH_TO_OUT_TEST_IMAGES_DIR)):\n",
    "        os.makedirs(PATH_TO_OUT_TEST_IMAGES_DIR)\n",
    "    out_image_path = os.path.join( PATH_TO_OUT_TEST_IMAGES_DIR , os.path.basename(image_path))\n",
    "    out_text_path = out_image_path.replace('.jpg','.txt')\n",
    "        \n",
    "    #     if (output_dict['num_detections']<100):\n",
    "    #         print(\".\")\n",
    "    #         continue\n",
    "        \n",
    "    # Output Images\n",
    "    min_score_thresh=0.6\n",
    "    vis_util.visualize_boxes_and_labels_on_image_array(\n",
    "          image_np,\n",
    "          output_dict['detection_boxes'],\n",
    "          output_dict['detection_classes'],\n",
    "          output_dict['detection_scores'],\n",
    "          category_index,\n",
    "          instance_masks=output_dict.get('detection_masks'),\n",
    "          use_normalized_coordinates=True,\n",
    "          line_thickness=1,\n",
    "          skip_scores=False,\n",
    "          skip_labels=True,\n",
    "        max_boxes_to_draw=256,\n",
    "        min_score_thresh=min_score_thresh)\n",
    "    cv2.imwrite(out_image_path, image_np)\n",
    "#     plt.figure(figsize=IMAGE_SIZE)\n",
    "#     plt.imshow(image_np)\n",
    "#     plt.savefig(out_image_path)\n",
    "#     plt.close(\"all\")\n",
    "\n",
    "    \n",
    "    # Output Text\n",
    "    boxes = output_dict['detection_boxes']\n",
    "    # get all boxes from an array\n",
    "    max_boxes_to_draw = boxes.shape[0]\n",
    "    # get scores to get a threshold\n",
    "    scores = output_dict['detection_scores']\n",
    "    # this is set as a default but feel free to adjust it to your needs\n",
    "    width, height = image.size\n",
    "\n",
    "    detected_img_list = []\n",
    "    detected_class_list = []\n",
    "    detected_score_list = []\n",
    "    detected_x_min = []\n",
    "    detected_y_min = []\n",
    "    detected_x_max = []\n",
    "    detected_y_max = []\n",
    "\n",
    "    \n",
    "    # iterate over all objects found\n",
    "    for i in range(min(max_boxes_to_draw, boxes.shape[0])):\n",
    "      if scores is None or scores[i] > min_score_thresh:\n",
    "          # boxes[i] is the box which will be drawn\n",
    "          class_name = category_index[output_dict['detection_classes'][i]]['name']\n",
    "          confidence_score = scores[i]\n",
    "          y_min = boxes[i][0] * height\n",
    "          x_min = boxes[i][1] * width\n",
    "          y_max = boxes[i][2] * height\n",
    "          x_max = boxes[i][3] * width\n",
    "\n",
    "          detected_img_list.append(os.path.basename(image_path))\n",
    "          detected_class_list.append(class_name)\n",
    "          detected_score_list.append(confidence_score)\n",
    "          detected_x_min.append(int(x_min))\n",
    "          detected_y_min.append(int(y_min))\n",
    "          detected_x_max.append(int(x_max))\n",
    "          detected_y_max.append(int(y_max))\n",
    "        \n",
    "    myPrediction = pd.DataFrame({\n",
    "        'xmin': detected_x_min,\n",
    "        'ymin': detected_y_min,\n",
    "        'xmax': detected_x_max,\n",
    "        'ymax': detected_y_max,\n",
    "        'class': detected_class_list,\n",
    "        'scores': detected_score_list\n",
    "    })\n",
    "    myPrediction.to_csv(out_text_path,encoding='utf-8', header=None, index=False, sep=\",\")\n",
    "    \n",
    "\n",
    "print('Done')\n",
    "end = time.time()\n",
    "total_time = end - start\n",
    "print(end - start)"
   ]
  },
  {
   "cell_type": "code",
   "execution_count": null,
   "metadata": {},
   "outputs": [],
   "source": []
  }
 ],
 "metadata": {
  "colab": {
   "default_view": {},
   "name": "object_detection_tutorial.ipynb?workspaceId=ronnyvotel:python_inference::citc",
   "provenance": [],
   "version": "0.3.2",
   "views": {}
  },
  "kernelspec": {
   "display_name": "Python 3",
   "language": "python",
   "name": "python3"
  },
  "language_info": {
   "codemirror_mode": {
    "name": "ipython",
    "version": 3
   },
   "file_extension": ".py",
   "mimetype": "text/x-python",
   "name": "python",
   "nbconvert_exporter": "python",
   "pygments_lexer": "ipython3",
   "version": "3.6.10"
  }
 },
 "nbformat": 4,
 "nbformat_minor": 4
}
